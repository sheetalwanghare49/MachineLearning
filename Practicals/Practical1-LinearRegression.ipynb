{
 "cells": [
  {
   "cell_type": "code",
   "execution_count": 3,
   "id": "ff9b07ff",
   "metadata": {},
   "outputs": [],
   "source": [
    "import pandas as pd\n",
    "import numpy as np\n",
    "import matplotlib.pyplot as plt\n",
    "import seaborn as sns"
   ]
  },
  {
   "cell_type": "code",
   "execution_count": 4,
   "id": "1c26d4c8",
   "metadata": {},
   "outputs": [],
   "source": [
    "data = pd.read_csv('Housepricing1.csv')"
   ]
  },
  {
   "cell_type": "code",
   "execution_count": 5,
   "id": "a50aaded",
   "metadata": {},
   "outputs": [
    {
     "data": {
      "text/html": [
       "<div>\n",
       "<style scoped>\n",
       "    .dataframe tbody tr th:only-of-type {\n",
       "        vertical-align: middle;\n",
       "    }\n",
       "\n",
       "    .dataframe tbody tr th {\n",
       "        vertical-align: top;\n",
       "    }\n",
       "\n",
       "    .dataframe thead th {\n",
       "        text-align: right;\n",
       "    }\n",
       "</style>\n",
       "<table border=\"1\" class=\"dataframe\">\n",
       "  <thead>\n",
       "    <tr style=\"text-align: right;\">\n",
       "      <th></th>\n",
       "      <th>Area</th>\n",
       "      <th>Price</th>\n",
       "    </tr>\n",
       "  </thead>\n",
       "  <tbody>\n",
       "    <tr>\n",
       "      <th>0</th>\n",
       "      <td>200</td>\n",
       "      <td>25.0</td>\n",
       "    </tr>\n",
       "    <tr>\n",
       "      <th>1</th>\n",
       "      <td>250</td>\n",
       "      <td>25.6</td>\n",
       "    </tr>\n",
       "    <tr>\n",
       "      <th>2</th>\n",
       "      <td>300</td>\n",
       "      <td>26.2</td>\n",
       "    </tr>\n",
       "    <tr>\n",
       "      <th>3</th>\n",
       "      <td>350</td>\n",
       "      <td>26.8</td>\n",
       "    </tr>\n",
       "    <tr>\n",
       "      <th>4</th>\n",
       "      <td>400</td>\n",
       "      <td>27.4</td>\n",
       "    </tr>\n",
       "    <tr>\n",
       "      <th>...</th>\n",
       "      <td>...</td>\n",
       "      <td>...</td>\n",
       "    </tr>\n",
       "    <tr>\n",
       "      <th>194</th>\n",
       "      <td>9900</td>\n",
       "      <td>141.4</td>\n",
       "    </tr>\n",
       "    <tr>\n",
       "      <th>195</th>\n",
       "      <td>9950</td>\n",
       "      <td>142.0</td>\n",
       "    </tr>\n",
       "    <tr>\n",
       "      <th>196</th>\n",
       "      <td>10000</td>\n",
       "      <td>142.6</td>\n",
       "    </tr>\n",
       "    <tr>\n",
       "      <th>197</th>\n",
       "      <td>10050</td>\n",
       "      <td>143.2</td>\n",
       "    </tr>\n",
       "    <tr>\n",
       "      <th>198</th>\n",
       "      <td>10100</td>\n",
       "      <td>143.8</td>\n",
       "    </tr>\n",
       "  </tbody>\n",
       "</table>\n",
       "<p>199 rows × 2 columns</p>\n",
       "</div>"
      ],
      "text/plain": [
       "      Area  Price\n",
       "0      200   25.0\n",
       "1      250   25.6\n",
       "2      300   26.2\n",
       "3      350   26.8\n",
       "4      400   27.4\n",
       "..     ...    ...\n",
       "194   9900  141.4\n",
       "195   9950  142.0\n",
       "196  10000  142.6\n",
       "197  10050  143.2\n",
       "198  10100  143.8\n",
       "\n",
       "[199 rows x 2 columns]"
      ]
     },
     "execution_count": 5,
     "metadata": {},
     "output_type": "execute_result"
    }
   ],
   "source": [
    "data"
   ]
  },
  {
   "cell_type": "code",
   "execution_count": 6,
   "id": "a442bb13",
   "metadata": {},
   "outputs": [
    {
     "data": {
      "text/html": [
       "<div>\n",
       "<style scoped>\n",
       "    .dataframe tbody tr th:only-of-type {\n",
       "        vertical-align: middle;\n",
       "    }\n",
       "\n",
       "    .dataframe tbody tr th {\n",
       "        vertical-align: top;\n",
       "    }\n",
       "\n",
       "    .dataframe thead th {\n",
       "        text-align: right;\n",
       "    }\n",
       "</style>\n",
       "<table border=\"1\" class=\"dataframe\">\n",
       "  <thead>\n",
       "    <tr style=\"text-align: right;\">\n",
       "      <th></th>\n",
       "      <th>Area</th>\n",
       "      <th>Price</th>\n",
       "    </tr>\n",
       "  </thead>\n",
       "  <tbody>\n",
       "    <tr>\n",
       "      <th>0</th>\n",
       "      <td>200</td>\n",
       "      <td>25.0</td>\n",
       "    </tr>\n",
       "    <tr>\n",
       "      <th>1</th>\n",
       "      <td>250</td>\n",
       "      <td>25.6</td>\n",
       "    </tr>\n",
       "    <tr>\n",
       "      <th>2</th>\n",
       "      <td>300</td>\n",
       "      <td>26.2</td>\n",
       "    </tr>\n",
       "    <tr>\n",
       "      <th>3</th>\n",
       "      <td>350</td>\n",
       "      <td>26.8</td>\n",
       "    </tr>\n",
       "    <tr>\n",
       "      <th>4</th>\n",
       "      <td>400</td>\n",
       "      <td>27.4</td>\n",
       "    </tr>\n",
       "  </tbody>\n",
       "</table>\n",
       "</div>"
      ],
      "text/plain": [
       "   Area  Price\n",
       "0   200   25.0\n",
       "1   250   25.6\n",
       "2   300   26.2\n",
       "3   350   26.8\n",
       "4   400   27.4"
      ]
     },
     "execution_count": 6,
     "metadata": {},
     "output_type": "execute_result"
    }
   ],
   "source": [
    "data.head()"
   ]
  },
  {
   "cell_type": "code",
   "execution_count": 7,
   "id": "b39601f6",
   "metadata": {},
   "outputs": [],
   "source": [
    "x = data.Area\n",
    "y = data.Price"
   ]
  },
  {
   "cell_type": "code",
   "execution_count": 8,
   "id": "a979fa81",
   "metadata": {},
   "outputs": [
    {
     "data": {
      "image/png": "[encoded data removed]",
      "text/plain": [
       "<Figure size 640x480 with 1 Axes>"
      ]
     },
     "metadata": {},
     "output_type": "display_data"
    }
   ],
   "source": [
    "plt.plot(x,y,color = \"purple\")\n",
    "plt.xlabel(\"Area\")\n",
    "plt.ylabel(\"Price\")\n",
    "plt.show()"
   ]
  },
  {
   "cell_type": "code",
   "execution_count": 9,
   "id": "9e676572",
   "metadata": {},
   "outputs": [
    {
     "data": {
      "text/plain": [
       "<seaborn.axisgrid.PairGrid at 0x19f30cccf10>"
      ]
     },
     "execution_count": 9,
     "metadata": {},
     "output_type": "execute_result"
    },
    {
     "data": {
      "image/png": "[encoded data removed]",
      "text/plain": [
       "<Figure size 250x250 with 1 Axes>"
      ]
     },
     "metadata": {},
     "output_type": "display_data"
    }
   ],
   "source": [
    "sns.pairplot(data,x_vars = 'Area',y_vars = 'Price',kind = 'scatter',diag_kind = None)"
   ]
  },
  {
   "cell_type": "code",
   "execution_count": 10,
   "id": "60c61819",
   "metadata": {},
   "outputs": [
    {
     "data": {
      "text/plain": [
       "0        200\n",
       "1        250\n",
       "2        300\n",
       "3        350\n",
       "4        400\n",
       "       ...  \n",
       "194     9900\n",
       "195     9950\n",
       "196    10000\n",
       "197    10050\n",
       "198    10100\n",
       "Name: Area, Length: 199, dtype: int64"
      ]
     },
     "execution_count": 10,
     "metadata": {},
     "output_type": "execute_result"
    }
   ],
   "source": [
    "x"
   ]
  },
  {
   "cell_type": "code",
   "execution_count": 11,
   "id": "d5865d67",
   "metadata": {},
   "outputs": [
    {
     "data": {
      "text/plain": [
       "dtype('int64')"
      ]
     },
     "execution_count": 11,
     "metadata": {},
     "output_type": "execute_result"
    }
   ],
   "source": [
    "x.dtype"
   ]
  },
  {
   "cell_type": "code",
   "execution_count": 12,
   "id": "974f13f9",
   "metadata": {},
   "outputs": [
    {
     "data": {
      "text/plain": [
       "0       25.0\n",
       "1       25.6\n",
       "2       26.2\n",
       "3       26.8\n",
       "4       27.4\n",
       "       ...  \n",
       "194    141.4\n",
       "195    142.0\n",
       "196    142.6\n",
       "197    143.2\n",
       "198    143.8\n",
       "Name: Price, Length: 199, dtype: float64"
      ]
     },
     "execution_count": 12,
     "metadata": {},
     "output_type": "execute_result"
    }
   ],
   "source": [
    "y"
   ]
  },
  {
   "cell_type": "code",
   "execution_count": 13,
   "id": "cf96829d",
   "metadata": {},
   "outputs": [
    {
     "data": {
      "text/plain": [
       "dtype('float64')"
      ]
     },
     "execution_count": 13,
     "metadata": {},
     "output_type": "execute_result"
    }
   ],
   "source": [
    "y.dtype"
   ]
  },
  {
   "cell_type": "code",
   "execution_count": 14,
   "id": "9d37db06",
   "metadata": {},
   "outputs": [],
   "source": [
    "X = np.array(x).reshape(-1,1)"
   ]
  },
  {
   "cell_type": "code",
   "execution_count": 15,
   "id": "898b1d2b",
   "metadata": {},
   "outputs": [
    {
     "data": {
      "text/plain": [
       "array([[  200],\n",
       "       [  250],\n",
       "       [  300],\n",
       "       [  350],\n",
       "       [  400],\n",
       "       [  450],\n",
       "       [  500],\n",
       "       [  550],\n",
       "       [  600],\n",
       "       [  650],\n",
       "       [  700],\n",
       "       [  750],\n",
       "       [  800],\n",
       "       [  850],\n",
       "       [  900],\n",
       "       [  950],\n",
       "       [ 1000],\n",
       "       [ 1050],\n",
       "       [ 1100],\n",
       "       [ 1150],\n",
       "       [ 1200],\n",
       "       [ 1250],\n",
       "       [ 1300],\n",
       "       [ 1350],\n",
       "       [ 1400],\n",
       "       [ 1450],\n",
       "       [ 1500],\n",
       "       [ 1550],\n",
       "       [ 1600],\n",
       "       [ 1650],\n",
       "       [ 1700],\n",
       "       [ 1750],\n",
       "       [ 1800],\n",
       "       [ 1850],\n",
       "       [ 1900],\n",
       "       [ 1950],\n",
       "       [ 2000],\n",
       "       [ 2050],\n",
       "       [ 2100],\n",
       "       [ 2150],\n",
       "       [ 2200],\n",
       "       [ 2250],\n",
       "       [ 2300],\n",
       "       [ 2350],\n",
       "       [ 2400],\n",
       "       [ 2450],\n",
       "       [ 2500],\n",
       "       [ 2550],\n",
       "       [ 2600],\n",
       "       [ 2650],\n",
       "       [ 2700],\n",
       "       [ 2750],\n",
       "       [ 2800],\n",
       "       [ 2850],\n",
       "       [ 2900],\n",
       "       [ 2950],\n",
       "       [ 3000],\n",
       "       [ 3050],\n",
       "       [ 3100],\n",
       "       [ 3150],\n",
       "       [ 3200],\n",
       "       [ 3250],\n",
       "       [ 3300],\n",
       "       [ 3350],\n",
       "       [ 3400],\n",
       "       [ 3450],\n",
       "       [ 3500],\n",
       "       [ 3550],\n",
       "       [ 3600],\n",
       "       [ 3650],\n",
       "       [ 3700],\n",
       "       [ 3750],\n",
       "       [ 3800],\n",
       "       [ 3850],\n",
       "       [ 3900],\n",
       "       [ 3950],\n",
       "       [ 4000],\n",
       "       [ 4050],\n",
       "       [ 4100],\n",
       "       [ 4150],\n",
       "       [ 4200],\n",
       "       [ 4250],\n",
       "       [ 4300],\n",
       "       [ 4350],\n",
       "       [ 4400],\n",
       "       [ 4450],\n",
       "       [ 4500],\n",
       "       [ 4550],\n",
       "       [ 4600],\n",
       "       [ 4650],\n",
       "       [ 4700],\n",
       "       [ 4750],\n",
       "       [ 4800],\n",
       "       [ 4850],\n",
       "       [ 4900],\n",
       "       [ 4950],\n",
       "       [ 5000],\n",
       "       [ 5050],\n",
       "       [ 5100],\n",
       "       [ 5150],\n",
       "       [ 5200],\n",
       "       [ 5250],\n",
       "       [ 5300],\n",
       "       [ 5350],\n",
       "       [ 5400],\n",
       "       [ 5450],\n",
       "       [ 5500],\n",
       "       [ 5550],\n",
       "       [ 5600],\n",
       "       [ 5650],\n",
       "       [ 5700],\n",
       "       [ 5750],\n",
       "       [ 5800],\n",
       "       [ 5850],\n",
       "       [ 5900],\n",
       "       [ 5950],\n",
       "       [ 6000],\n",
       "       [ 6050],\n",
       "       [ 6100],\n",
       "       [ 6150],\n",
       "       [ 6200],\n",
       "       [ 6250],\n",
       "       [ 6300],\n",
       "       [ 6350],\n",
       "       [ 6400],\n",
       "       [ 6450],\n",
       "       [ 6500],\n",
       "       [ 6550],\n",
       "       [ 6600],\n",
       "       [ 6650],\n",
       "       [ 6700],\n",
       "       [ 6750],\n",
       "       [ 6800],\n",
       "       [ 6850],\n",
       "       [ 6900],\n",
       "       [ 6950],\n",
       "       [ 7000],\n",
       "       [ 7050],\n",
       "       [ 7100],\n",
       "       [ 7150],\n",
       "       [ 7200],\n",
       "       [ 7250],\n",
       "       [ 7300],\n",
       "       [ 7350],\n",
       "       [ 7400],\n",
       "       [ 7450],\n",
       "       [ 7500],\n",
       "       [ 7550],\n",
       "       [ 7600],\n",
       "       [ 7650],\n",
       "       [ 7700],\n",
       "       [ 7750],\n",
       "       [ 7800],\n",
       "       [ 7850],\n",
       "       [ 7900],\n",
       "       [ 7950],\n",
       "       [ 8000],\n",
       "       [ 8050],\n",
       "       [ 8100],\n",
       "       [ 8150],\n",
       "       [ 8200],\n",
       "       [ 8250],\n",
       "       [ 8300],\n",
       "       [ 8350],\n",
       "       [ 8400],\n",
       "       [ 8450],\n",
       "       [ 8500],\n",
       "       [ 8550],\n",
       "       [ 8600],\n",
       "       [ 8650],\n",
       "       [ 8700],\n",
       "       [ 8750],\n",
       "       [ 8800],\n",
       "       [ 8850],\n",
       "       [ 8900],\n",
       "       [ 8950],\n",
       "       [ 9000],\n",
       "       [ 9050],\n",
       "       [ 9100],\n",
       "       [ 9150],\n",
       "       [ 9200],\n",
       "       [ 9250],\n",
       "       [ 9300],\n",
       "       [ 9350],\n",
       "       [ 9400],\n",
       "       [ 9450],\n",
       "       [ 9500],\n",
       "       [ 9550],\n",
       "       [ 9600],\n",
       "       [ 9650],\n",
       "       [ 9700],\n",
       "       [ 9750],\n",
       "       [ 9800],\n",
       "       [ 9850],\n",
       "       [ 9900],\n",
       "       [ 9950],\n",
       "       [10000],\n",
       "       [10050],\n",
       "       [10100]], dtype=int64)"
      ]
     },
     "execution_count": 15,
     "metadata": {},
     "output_type": "execute_result"
    }
   ],
   "source": [
    "X"
   ]
  },
  {
   "cell_type": "code",
   "execution_count": 16,
   "id": "bb8cbc7f",
   "metadata": {},
   "outputs": [],
   "source": [
    "Y = np.array(y).reshape(-1,1)"
   ]
  },
  {
   "cell_type": "code",
   "execution_count": 17,
   "id": "5e5393c5",
   "metadata": {},
   "outputs": [
    {
     "data": {
      "text/plain": [
       "array([[ 25. ],\n",
       "       [ 25.6],\n",
       "       [ 26.2],\n",
       "       [ 26.8],\n",
       "       [ 27.4],\n",
       "       [ 28. ],\n",
       "       [ 28.6],\n",
       "       [ 29.2],\n",
       "       [ 29.8],\n",
       "       [ 30.4],\n",
       "       [ 31. ],\n",
       "       [ 31.6],\n",
       "       [ 32.2],\n",
       "       [ 32.8],\n",
       "       [ 33.4],\n",
       "       [ 34. ],\n",
       "       [ 34.6],\n",
       "       [ 35.2],\n",
       "       [ 35.8],\n",
       "       [ 36.4],\n",
       "       [ 37. ],\n",
       "       [ 37.6],\n",
       "       [ 38.2],\n",
       "       [ 38.8],\n",
       "       [ 39.4],\n",
       "       [ 40. ],\n",
       "       [ 40.6],\n",
       "       [ 41.2],\n",
       "       [ 41.8],\n",
       "       [ 42.4],\n",
       "       [ 43. ],\n",
       "       [ 43.6],\n",
       "       [ 44.2],\n",
       "       [ 44.8],\n",
       "       [ 45.4],\n",
       "       [ 46. ],\n",
       "       [ 46.6],\n",
       "       [ 47.2],\n",
       "       [ 47.8],\n",
       "       [ 48.4],\n",
       "       [ 49. ],\n",
       "       [ 49.6],\n",
       "       [ 50.2],\n",
       "       [ 50.8],\n",
       "       [ 51.4],\n",
       "       [ 52. ],\n",
       "       [ 52.6],\n",
       "       [ 53.2],\n",
       "       [ 53.8],\n",
       "       [ 54.4],\n",
       "       [ 55. ],\n",
       "       [ 55.6],\n",
       "       [ 56.2],\n",
       "       [ 56.8],\n",
       "       [ 57.4],\n",
       "       [ 58. ],\n",
       "       [ 58.6],\n",
       "       [ 59.2],\n",
       "       [ 59.8],\n",
       "       [ 60.4],\n",
       "       [ 61. ],\n",
       "       [ 61.6],\n",
       "       [ 62.2],\n",
       "       [ 62.8],\n",
       "       [ 63.4],\n",
       "       [ 64. ],\n",
       "       [ 64.6],\n",
       "       [ 65.2],\n",
       "       [ 65.8],\n",
       "       [ 66.4],\n",
       "       [ 67. ],\n",
       "       [ 67.6],\n",
       "       [ 68.2],\n",
       "       [ 68.8],\n",
       "       [ 69.4],\n",
       "       [ 70. ],\n",
       "       [ 70.6],\n",
       "       [ 71.2],\n",
       "       [ 71.8],\n",
       "       [ 72.4],\n",
       "       [ 73. ],\n",
       "       [ 73.6],\n",
       "       [ 74.2],\n",
       "       [ 74.8],\n",
       "       [ 75.4],\n",
       "       [ 76. ],\n",
       "       [ 76.6],\n",
       "       [ 77.2],\n",
       "       [ 77.8],\n",
       "       [ 78.4],\n",
       "       [ 79. ],\n",
       "       [ 79.6],\n",
       "       [ 80.2],\n",
       "       [ 80.8],\n",
       "       [ 81.4],\n",
       "       [ 82. ],\n",
       "       [ 82.6],\n",
       "       [ 83.2],\n",
       "       [ 83.8],\n",
       "       [ 84.4],\n",
       "       [ 85. ],\n",
       "       [ 85.6],\n",
       "       [ 86.2],\n",
       "       [ 86.8],\n",
       "       [ 87.4],\n",
       "       [ 88. ],\n",
       "       [ 88.6],\n",
       "       [ 89.2],\n",
       "       [ 89.8],\n",
       "       [ 90.4],\n",
       "       [ 91. ],\n",
       "       [ 91.6],\n",
       "       [ 92.2],\n",
       "       [ 92.8],\n",
       "       [ 93.4],\n",
       "       [ 94. ],\n",
       "       [ 94.6],\n",
       "       [ 95.2],\n",
       "       [ 95.8],\n",
       "       [ 96.4],\n",
       "       [ 97. ],\n",
       "       [ 97.6],\n",
       "       [ 98.2],\n",
       "       [ 98.8],\n",
       "       [ 99.4],\n",
       "       [100. ],\n",
       "       [100.6],\n",
       "       [101.2],\n",
       "       [101.8],\n",
       "       [102.4],\n",
       "       [103. ],\n",
       "       [103.6],\n",
       "       [104.2],\n",
       "       [104.8],\n",
       "       [105.4],\n",
       "       [106. ],\n",
       "       [106.6],\n",
       "       [107.2],\n",
       "       [107.8],\n",
       "       [108.4],\n",
       "       [109. ],\n",
       "       [109.6],\n",
       "       [110.2],\n",
       "       [110.8],\n",
       "       [111.4],\n",
       "       [112. ],\n",
       "       [112.6],\n",
       "       [113.2],\n",
       "       [113.8],\n",
       "       [114.4],\n",
       "       [115. ],\n",
       "       [115.6],\n",
       "       [116.2],\n",
       "       [116.8],\n",
       "       [117.4],\n",
       "       [118. ],\n",
       "       [118.6],\n",
       "       [119.2],\n",
       "       [119.8],\n",
       "       [120.4],\n",
       "       [121. ],\n",
       "       [121.6],\n",
       "       [122.2],\n",
       "       [122.8],\n",
       "       [123.4],\n",
       "       [124. ],\n",
       "       [124.6],\n",
       "       [125.2],\n",
       "       [125.8],\n",
       "       [126.4],\n",
       "       [127. ],\n",
       "       [127.6],\n",
       "       [128.2],\n",
       "       [128.8],\n",
       "       [129.4],\n",
       "       [130. ],\n",
       "       [130.6],\n",
       "       [131.2],\n",
       "       [131.8],\n",
       "       [132.4],\n",
       "       [133. ],\n",
       "       [133.6],\n",
       "       [134.2],\n",
       "       [134.8],\n",
       "       [135.4],\n",
       "       [136. ],\n",
       "       [136.6],\n",
       "       [137.2],\n",
       "       [137.8],\n",
       "       [138.4],\n",
       "       [139. ],\n",
       "       [139.6],\n",
       "       [140.2],\n",
       "       [140.8],\n",
       "       [141.4],\n",
       "       [142. ],\n",
       "       [142.6],\n",
       "       [143.2],\n",
       "       [143.8]])"
      ]
     },
     "execution_count": 17,
     "metadata": {},
     "output_type": "execute_result"
    }
   ],
   "source": [
    "Y"
   ]
  },
  {
   "cell_type": "code",
   "execution_count": 19,
   "id": "f6a59348",
   "metadata": {},
   "outputs": [],
   "source": [
    "import sklearn\n",
    "from sklearn.model_selection import train_test_split"
   ]
  },
  {
   "cell_type": "code",
   "execution_count": 20,
   "id": "522ad0d4",
   "metadata": {},
   "outputs": [],
   "source": [
    "x_train,x_test,y_train,y_test = train_test_split(X,Y,random_state = 0,train_size = 0.70)"
   ]
  },
  {
   "cell_type": "code",
   "execution_count": 21,
   "id": "3772beaf",
   "metadata": {},
   "outputs": [
    {
     "data": {
      "text/plain": [
       "array([[ 6700],\n",
       "       [ 9300],\n",
       "       [ 9200],\n",
       "       [ 1150],\n",
       "       [ 7800],\n",
       "       [ 7000],\n",
       "       [ 2900],\n",
       "       [ 8300],\n",
       "       [ 2750],\n",
       "       [ 5800],\n",
       "       [ 7100],\n",
       "       [ 4650],\n",
       "       [ 4700],\n",
       "       [ 6350],\n",
       "       [ 7350],\n",
       "       [ 9250],\n",
       "       [ 5600],\n",
       "       [  900],\n",
       "       [ 1550],\n",
       "       [ 5250],\n",
       "       [ 6100],\n",
       "       [ 2500],\n",
       "       [ 9900],\n",
       "       [ 5550],\n",
       "       [ 3300],\n",
       "       [  300],\n",
       "       [ 3150],\n",
       "       [ 8850],\n",
       "       [ 6500],\n",
       "       [ 2350],\n",
       "       [  700],\n",
       "       [ 9500],\n",
       "       [ 3850],\n",
       "       [ 9750],\n",
       "       [ 9050],\n",
       "       [ 8550],\n",
       "       [ 6450],\n",
       "       [ 4850],\n",
       "       [ 5750],\n",
       "       [ 8050],\n",
       "       [ 9700],\n",
       "       [ 2700],\n",
       "       [  200],\n",
       "       [ 4900],\n",
       "       [ 5650],\n",
       "       [ 4950],\n",
       "       [ 3400],\n",
       "       [ 7250],\n",
       "       [ 2250],\n",
       "       [ 3650],\n",
       "       [ 2650],\n",
       "       [ 2600],\n",
       "       [ 4450],\n",
       "       [  850],\n",
       "       [ 7700],\n",
       "       [ 1350],\n",
       "       [ 9450],\n",
       "       [ 6900],\n",
       "       [ 1200],\n",
       "       [  950],\n",
       "       [ 4100],\n",
       "       [ 5400],\n",
       "       [ 2800],\n",
       "       [ 5200],\n",
       "       [ 4000],\n",
       "       [  350],\n",
       "       [ 6000],\n",
       "       [ 8350],\n",
       "       [10050],\n",
       "       [  500],\n",
       "       [ 3600],\n",
       "       [ 4400],\n",
       "       [ 6250],\n",
       "       [ 7900],\n",
       "       [ 8700],\n",
       "       [ 7950],\n",
       "       [ 4750],\n",
       "       [ 8750],\n",
       "       [  750],\n",
       "       [ 6150],\n",
       "       [ 5300],\n",
       "       [ 1950],\n",
       "       [ 3050],\n",
       "       [ 3450],\n",
       "       [  250],\n",
       "       [ 6200],\n",
       "       [ 8250],\n",
       "       [ 2300],\n",
       "       [ 5450],\n",
       "       [ 6800],\n",
       "       [10100],\n",
       "       [ 1050],\n",
       "       [ 2100],\n",
       "       [ 6850],\n",
       "       [ 2850],\n",
       "       [ 8000],\n",
       "       [ 6600],\n",
       "       [ 1900],\n",
       "       [ 1600],\n",
       "       [ 5900],\n",
       "       [ 7750],\n",
       "       [ 1750],\n",
       "       [ 9150],\n",
       "       [ 6550],\n",
       "       [ 8950],\n",
       "       [ 1800],\n",
       "       [ 7300],\n",
       "       [ 8600],\n",
       "       [ 7550],\n",
       "       [ 1650],\n",
       "       [ 5150],\n",
       "       [ 4300],\n",
       "       [ 4150],\n",
       "       [ 5950],\n",
       "       [ 7600],\n",
       "       [ 9950],\n",
       "       [ 3800],\n",
       "       [ 4050],\n",
       "       [ 1450],\n",
       "       [ 8450],\n",
       "       [ 4250],\n",
       "       [ 9550],\n",
       "       [ 8900],\n",
       "       [ 9650],\n",
       "       [ 2150],\n",
       "       [ 3100],\n",
       "       [ 7200],\n",
       "       [ 4600],\n",
       "       [ 3700],\n",
       "       [ 4550],\n",
       "       [ 2000],\n",
       "       [ 1250],\n",
       "       [  650],\n",
       "       [ 5350],\n",
       "       [ 3550],\n",
       "       [ 9800],\n",
       "       [ 6050],\n",
       "       [ 2550],\n",
       "       [ 8800]], dtype=int64)"
      ]
     },
     "execution_count": 21,
     "metadata": {},
     "output_type": "execute_result"
    }
   ],
   "source": [
    "x_train"
   ]
  },
  {
   "cell_type": "code",
   "execution_count": 22,
   "id": "7d72290a",
   "metadata": {},
   "outputs": [
    {
     "data": {
      "text/plain": [
       "array([[103. ],\n",
       "       [134.2],\n",
       "       [133. ],\n",
       "       [ 36.4],\n",
       "       [116.2],\n",
       "       [106.6],\n",
       "       [ 57.4],\n",
       "       [122.2],\n",
       "       [ 55.6],\n",
       "       [ 92.2],\n",
       "       [107.8],\n",
       "       [ 78.4],\n",
       "       [ 79. ],\n",
       "       [ 98.8],\n",
       "       [110.8],\n",
       "       [133.6],\n",
       "       [ 89.8],\n",
       "       [ 33.4],\n",
       "       [ 41.2],\n",
       "       [ 85.6],\n",
       "       [ 95.8],\n",
       "       [ 52.6],\n",
       "       [141.4],\n",
       "       [ 89.2],\n",
       "       [ 62.2],\n",
       "       [ 26.2],\n",
       "       [ 60.4],\n",
       "       [128.8],\n",
       "       [100.6],\n",
       "       [ 50.8],\n",
       "       [ 31. ],\n",
       "       [136.6],\n",
       "       [ 68.8],\n",
       "       [139.6],\n",
       "       [131.2],\n",
       "       [125.2],\n",
       "       [100. ],\n",
       "       [ 80.8],\n",
       "       [ 91.6],\n",
       "       [119.2],\n",
       "       [139. ],\n",
       "       [ 55. ],\n",
       "       [ 25. ],\n",
       "       [ 81.4],\n",
       "       [ 90.4],\n",
       "       [ 82. ],\n",
       "       [ 63.4],\n",
       "       [109.6],\n",
       "       [ 49.6],\n",
       "       [ 66.4],\n",
       "       [ 54.4],\n",
       "       [ 53.8],\n",
       "       [ 76. ],\n",
       "       [ 32.8],\n",
       "       [115. ],\n",
       "       [ 38.8],\n",
       "       [136. ],\n",
       "       [105.4],\n",
       "       [ 37. ],\n",
       "       [ 34. ],\n",
       "       [ 71.8],\n",
       "       [ 87.4],\n",
       "       [ 56.2],\n",
       "       [ 85. ],\n",
       "       [ 70.6],\n",
       "       [ 26.8],\n",
       "       [ 94.6],\n",
       "       [122.8],\n",
       "       [143.2],\n",
       "       [ 28.6],\n",
       "       [ 65.8],\n",
       "       [ 75.4],\n",
       "       [ 97.6],\n",
       "       [117.4],\n",
       "       [127. ],\n",
       "       [118. ],\n",
       "       [ 79.6],\n",
       "       [127.6],\n",
       "       [ 31.6],\n",
       "       [ 96.4],\n",
       "       [ 86.2],\n",
       "       [ 46. ],\n",
       "       [ 59.2],\n",
       "       [ 64. ],\n",
       "       [ 25.6],\n",
       "       [ 97. ],\n",
       "       [121.6],\n",
       "       [ 50.2],\n",
       "       [ 88. ],\n",
       "       [104.2],\n",
       "       [143.8],\n",
       "       [ 35.2],\n",
       "       [ 47.8],\n",
       "       [104.8],\n",
       "       [ 56.8],\n",
       "       [118.6],\n",
       "       [101.8],\n",
       "       [ 45.4],\n",
       "       [ 41.8],\n",
       "       [ 93.4],\n",
       "       [115.6],\n",
       "       [ 43.6],\n",
       "       [132.4],\n",
       "       [101.2],\n",
       "       [130. ],\n",
       "       [ 44.2],\n",
       "       [110.2],\n",
       "       [125.8],\n",
       "       [113.2],\n",
       "       [ 42.4],\n",
       "       [ 84.4],\n",
       "       [ 74.2],\n",
       "       [ 72.4],\n",
       "       [ 94. ],\n",
       "       [113.8],\n",
       "       [142. ],\n",
       "       [ 68.2],\n",
       "       [ 71.2],\n",
       "       [ 40. ],\n",
       "       [124. ],\n",
       "       [ 73.6],\n",
       "       [137.2],\n",
       "       [129.4],\n",
       "       [138.4],\n",
       "       [ 48.4],\n",
       "       [ 59.8],\n",
       "       [109. ],\n",
       "       [ 77.8],\n",
       "       [ 67. ],\n",
       "       [ 77.2],\n",
       "       [ 46.6],\n",
       "       [ 37.6],\n",
       "       [ 30.4],\n",
       "       [ 86.8],\n",
       "       [ 65.2],\n",
       "       [140.2],\n",
       "       [ 95.2],\n",
       "       [ 53.2],\n",
       "       [128.2]])"
      ]
     },
     "execution_count": 22,
     "metadata": {},
     "output_type": "execute_result"
    }
   ],
   "source": [
    "y_train"
   ]
  },
  {
   "cell_type": "code",
   "execution_count": 23,
   "id": "b67f7253",
   "metadata": {},
   "outputs": [],
   "source": [
    "from sklearn import linear_model"
   ]
  },
  {
   "cell_type": "code",
   "execution_count": 24,
   "id": "a23810e6",
   "metadata": {},
   "outputs": [],
   "source": [
    "from sklearn.linear_model import LinearRegression"
   ]
  },
  {
   "cell_type": "code",
   "execution_count": 25,
   "id": "ff2b5f66",
   "metadata": {},
   "outputs": [],
   "source": [
    "model = LinearRegression()"
   ]
  },
  {
   "cell_type": "code",
   "execution_count": 26,
   "id": "6b592234",
   "metadata": {},
   "outputs": [
    {
     "data": {
      "text/html": [
       "<style>#sk-container-id-1 {color: black;background-color: white;}#sk-container-id-1 pre{padding: 0;}#sk-container-id-1 div.sk-toggleable {background-color: white;}#sk-container-id-1 label.sk-toggleable__label {cursor: pointer;display: block;width: 100%;margin-bottom: 0;padding: 0.3em;box-sizing: border-box;text-align: center;}#sk-container-id-1 label.sk-toggleable__label-arrow:before {content: \"▸\";float: left;margin-right: 0.25em;color: #696969;}#sk-container-id-1 label.sk-toggleable__label-arrow:hover:before {color: black;}#sk-container-id-1 div.sk-estimator:hover label.sk-toggleable__label-arrow:before {color: black;}#sk-container-id-1 div.sk-toggleable__content {max-height: 0;max-width: 0;overflow: hidden;text-align: left;background-color: #f0f8ff;}#sk-container-id-1 div.sk-toggleable__content pre {margin: 0.2em;color: black;border-radius: 0.25em;background-color: #f0f8ff;}#sk-container-id-1 input.sk-toggleable__control:checked~div.sk-toggleable__content {max-height: 200px;max-width: 100%;overflow: auto;}#sk-container-id-1 input.sk-toggleable__control:checked~label.sk-toggleable__label-arrow:before {content: \"▾\";}#sk-container-id-1 div.sk-estimator input.sk-toggleable__control:checked~label.sk-toggleable__label {background-color: #d4ebff;}#sk-container-id-1 div.sk-label input.sk-toggleable__control:checked~label.sk-toggleable__label {background-color: #d4ebff;}#sk-container-id-1 input.sk-hidden--visually {border: 0;clip: rect(1px 1px 1px 1px);clip: rect(1px, 1px, 1px, 1px);height: 1px;margin: -1px;overflow: hidden;padding: 0;position: absolute;width: 1px;}#sk-container-id-1 div.sk-estimator {font-family: monospace;background-color: #f0f8ff;border: 1px dotted black;border-radius: 0.25em;box-sizing: border-box;margin-bottom: 0.5em;}#sk-container-id-1 div.sk-estimator:hover {background-color: #d4ebff;}#sk-container-id-1 div.sk-parallel-item::after {content: \"\";width: 100%;border-bottom: 1px solid gray;flex-grow: 1;}#sk-container-id-1 div.sk-label:hover label.sk-toggleable__label {background-color: #d4ebff;}#sk-container-id-1 div.sk-serial::before {content: \"\";position: absolute;border-left: 1px solid gray;box-sizing: border-box;top: 0;bottom: 0;left: 50%;z-index: 0;}#sk-container-id-1 div.sk-serial {display: flex;flex-direction: column;align-items: center;background-color: white;padding-right: 0.2em;padding-left: 0.2em;position: relative;}#sk-container-id-1 div.sk-item {position: relative;z-index: 1;}#sk-container-id-1 div.sk-parallel {display: flex;align-items: stretch;justify-content: center;background-color: white;position: relative;}#sk-container-id-1 div.sk-item::before, #sk-container-id-1 div.sk-parallel-item::before {content: \"\";position: absolute;border-left: 1px solid gray;box-sizing: border-box;top: 0;bottom: 0;left: 50%;z-index: -1;}#sk-container-id-1 div.sk-parallel-item {display: flex;flex-direction: column;z-index: 1;position: relative;background-color: white;}#sk-container-id-1 div.sk-parallel-item:first-child::after {align-self: flex-end;width: 50%;}#sk-container-id-1 div.sk-parallel-item:last-child::after {align-self: flex-start;width: 50%;}#sk-container-id-1 div.sk-parallel-item:only-child::after {width: 0;}#sk-container-id-1 div.sk-dashed-wrapped {border: 1px dashed gray;margin: 0 0.4em 0.5em 0.4em;box-sizing: border-box;padding-bottom: 0.4em;background-color: white;}#sk-container-id-1 div.sk-label label {font-family: monospace;font-weight: bold;display: inline-block;line-height: 1.2em;}#sk-container-id-1 div.sk-label-container {text-align: center;}#sk-container-id-1 div.sk-container {/* jupyter's `normalize.less` sets `[hidden] { display: none; }` but bootstrap.min.css set `[hidden] { display: none !important; }` so we also need the `!important` here to be able to override the default hidden behavior on the sphinx rendered scikit-learn.org. See: https://github.com/scikit-learn/scikit-learn/issues/21755 */display: inline-block !important;position: relative;}#sk-container-id-1 div.sk-text-repr-fallback {display: none;}</style><div id=\"sk-container-id-1\" class=\"sk-top-container\"><div class=\"sk-text-repr-fallback\"><pre>LinearRegression()</pre><b>In a Jupyter environment, please rerun this cell to show the HTML representation or trust the notebook. <br />On GitHub, the HTML representation is unable to render, please try loading this page with nbviewer.org.</b></div><div class=\"sk-container\" hidden><div class=\"sk-item\"><div class=\"sk-estimator sk-toggleable\"><input class=\"sk-toggleable__control sk-hidden--visually\" id=\"sk-estimator-id-1\" type=\"checkbox\" checked><label for=\"sk-estimator-id-1\" class=\"sk-toggleable__label sk-toggleable__label-arrow\">LinearRegression</label><div class=\"sk-toggleable__content\"><pre>LinearRegression()</pre></div></div></div></div></div>"
      ],
      "text/plain": [
       "LinearRegression()"
      ]
     },
     "execution_count": 26,
     "metadata": {},
     "output_type": "execute_result"
    }
   ],
   "source": [
    "model.fit(x_train,y_train)"
   ]
  },
  {
   "cell_type": "code",
   "execution_count": 27,
   "id": "bb7bee0d",
   "metadata": {},
   "outputs": [],
   "source": [
    "y_predicted = model.predict(x_test)"
   ]
  },
  {
   "cell_type": "code",
   "execution_count": 28,
   "id": "82ff6c52",
   "metadata": {},
   "outputs": [
    {
     "data": {
      "text/plain": [
       "array([[ 35.8],\n",
       "       [126.4],\n",
       "       [ 88.6],\n",
       "       [ 80.2],\n",
       "       [130.6],\n",
       "       [134.8],\n",
       "       [ 28. ],\n",
       "       [108.4],\n",
       "       [ 32.2],\n",
       "       [121. ],\n",
       "       [ 61.6],\n",
       "       [ 99.4],\n",
       "       [123.4],\n",
       "       [112. ],\n",
       "       [ 73. ],\n",
       "       [ 29.2],\n",
       "       [ 44.8],\n",
       "       [102.4],\n",
       "       [ 47.2],\n",
       "       [ 69.4],\n",
       "       [120.4],\n",
       "       [111.4],\n",
       "       [ 52. ],\n",
       "       [119.8],\n",
       "       [ 61. ],\n",
       "       [ 98.2],\n",
       "       [131.8],\n",
       "       [135.4],\n",
       "       [ 83.2],\n",
       "       [ 51.4],\n",
       "       [ 34.6],\n",
       "       [ 58. ],\n",
       "       [ 74.8],\n",
       "       [ 91. ],\n",
       "       [ 38.2],\n",
       "       [137.8],\n",
       "       [106. ],\n",
       "       [ 27.4],\n",
       "       [107.2],\n",
       "       [140.8],\n",
       "       [116.8],\n",
       "       [ 64.6],\n",
       "       [ 40.6],\n",
       "       [103.6],\n",
       "       [112.6],\n",
       "       [ 62.8],\n",
       "       [ 29.8],\n",
       "       [ 70. ],\n",
       "       [ 83.8],\n",
       "       [124.6],\n",
       "       [ 67.6],\n",
       "       [142.6],\n",
       "       [ 76.6],\n",
       "       [ 82.6],\n",
       "       [114.4],\n",
       "       [ 39.4],\n",
       "       [ 43. ],\n",
       "       [ 92.8],\n",
       "       [ 49. ],\n",
       "       [ 58.6]])"
      ]
     },
     "execution_count": 28,
     "metadata": {},
     "output_type": "execute_result"
    }
   ],
   "source": [
    "y_predicted"
   ]
  },
  {
   "cell_type": "code",
   "execution_count": 29,
   "id": "8221d8eb",
   "metadata": {},
   "outputs": [
    {
     "data": {
      "text/plain": [
       "array([[ 1100],\n",
       "       [ 8650],\n",
       "       [ 5500],\n",
       "       [ 4800],\n",
       "       [ 9000],\n",
       "       [ 9350],\n",
       "       [  450],\n",
       "       [ 7150],\n",
       "       [  800],\n",
       "       [ 8200],\n",
       "       [ 3250],\n",
       "       [ 6400],\n",
       "       [ 8400],\n",
       "       [ 7450],\n",
       "       [ 4200],\n",
       "       [  550],\n",
       "       [ 1850],\n",
       "       [ 6650],\n",
       "       [ 2050],\n",
       "       [ 3900],\n",
       "       [ 8150],\n",
       "       [ 7400],\n",
       "       [ 2450],\n",
       "       [ 8100],\n",
       "       [ 3200],\n",
       "       [ 6300],\n",
       "       [ 9100],\n",
       "       [ 9400],\n",
       "       [ 5050],\n",
       "       [ 2400],\n",
       "       [ 1000],\n",
       "       [ 2950],\n",
       "       [ 4350],\n",
       "       [ 5700],\n",
       "       [ 1300],\n",
       "       [ 9600],\n",
       "       [ 6950],\n",
       "       [  400],\n",
       "       [ 7050],\n",
       "       [ 9850],\n",
       "       [ 7850],\n",
       "       [ 3500],\n",
       "       [ 1500],\n",
       "       [ 6750],\n",
       "       [ 7500],\n",
       "       [ 3350],\n",
       "       [  600],\n",
       "       [ 3950],\n",
       "       [ 5100],\n",
       "       [ 8500],\n",
       "       [ 3750],\n",
       "       [10000],\n",
       "       [ 4500],\n",
       "       [ 5000],\n",
       "       [ 7650],\n",
       "       [ 1400],\n",
       "       [ 1700],\n",
       "       [ 5850],\n",
       "       [ 2200],\n",
       "       [ 3000]], dtype=int64)"
      ]
     },
     "execution_count": 29,
     "metadata": {},
     "output_type": "execute_result"
    }
   ],
   "source": [
    "x_test"
   ]
  },
  {
   "cell_type": "code",
   "execution_count": 30,
   "id": "ea85ca83",
   "metadata": {},
   "outputs": [],
   "source": [
    "from sklearn.metrics import mean_squared_error"
   ]
  },
  {
   "cell_type": "code",
   "execution_count": 31,
   "id": "b569e2e0",
   "metadata": {},
   "outputs": [],
   "source": [
    "mse = mean_squared_error(y_test,y_predicted)"
   ]
  },
  {
   "cell_type": "code",
   "execution_count": 32,
   "id": "21bba432",
   "metadata": {},
   "outputs": [
    {
     "data": {
      "text/plain": [
       "1.4557113237678404e-28"
      ]
     },
     "execution_count": 32,
     "metadata": {},
     "output_type": "execute_result"
    }
   ],
   "source": [
    "mse"
   ]
  },
  {
   "cell_type": "code",
   "execution_count": 33,
   "id": "e6eb02ea",
   "metadata": {},
   "outputs": [],
   "source": [
    "from sklearn.metrics import mean_absolute_error"
   ]
  },
  {
   "cell_type": "code",
   "execution_count": 34,
   "id": "ad8ad18a",
   "metadata": {},
   "outputs": [],
   "source": [
    "mae = mean_absolute_error(y_test,y_predicted)"
   ]
  },
  {
   "cell_type": "code",
   "execution_count": 35,
   "id": "5d9d53b6",
   "metadata": {},
   "outputs": [
    {
     "data": {
      "text/plain": [
       "8.526512829121202e-15"
      ]
     },
     "execution_count": 35,
     "metadata": {},
     "output_type": "execute_result"
    }
   ],
   "source": [
    "mae"
   ]
  },
  {
   "cell_type": "code",
   "execution_count": 36,
   "id": "f5bc47e8",
   "metadata": {},
   "outputs": [],
   "source": [
    "from sklearn.metrics import mean_absolute_percentage_error"
   ]
  },
  {
   "cell_type": "code",
   "execution_count": 37,
   "id": "dea4a827",
   "metadata": {},
   "outputs": [],
   "source": [
    "mape = mean_absolute_percentage_error(y_test,y_predicted)"
   ]
  },
  {
   "cell_type": "code",
   "execution_count": 38,
   "id": "f9fb7075",
   "metadata": {},
   "outputs": [
    {
     "data": {
      "text/plain": [
       "1.5875984671137725e-16"
      ]
     },
     "execution_count": 38,
     "metadata": {},
     "output_type": "execute_result"
    }
   ],
   "source": [
    "mape"
   ]
  },
  {
   "cell_type": "code",
   "execution_count": 39,
   "id": "f95a706f",
   "metadata": {},
   "outputs": [],
   "source": [
    "accuracy = 100 - mape"
   ]
  },
  {
   "cell_type": "code",
   "execution_count": 40,
   "id": "22005e6d",
   "metadata": {},
   "outputs": [
    {
     "data": {
      "text/plain": [
       "100.0"
      ]
     },
     "execution_count": 40,
     "metadata": {},
     "output_type": "execute_result"
    }
   ],
   "source": [
    "accuracy"
   ]
  },
  {
   "cell_type": "code",
   "execution_count": null,
   "id": "b1020a93",
   "metadata": {},
   "outputs": [],
   "source": []
  }
 ],
 "metadata": {
  "kernelspec": {
   "display_name": "Python 3 (ipykernel)",
   "language": "python",
   "name": "python3"
  },
  "language_info": {
   "codemirror_mode": {
    "name": "ipython",
    "version": 3
   },
   "file_extension": ".py",
   "mimetype": "text/x-python",
   "name": "python",
   "nbconvert_exporter": "python",
   "pygments_lexer": "ipython3",
   "version": "3.10.7"
  }
 },
 "nbformat": 4,
 "nbformat_minor": 5
}
