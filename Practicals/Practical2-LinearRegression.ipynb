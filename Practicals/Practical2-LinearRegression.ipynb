{
 "cells": [
  {
   "cell_type": "code",
   "execution_count": 1,
   "id": "2b9c823b",
   "metadata": {},
   "outputs": [],
   "source": [
    "import pandas as pd\n",
    "import numpy as np\n",
    "import seaborn as sns\n",
    "import matplotlib.pyplot as plt"
   ]
  },
  {
   "cell_type": "code",
   "execution_count": 3,
   "id": "987f25f4",
   "metadata": {},
   "outputs": [],
   "source": [
    "data = pd.read_csv('advertising1.csv')"
   ]
  },
  {
   "cell_type": "code",
   "execution_count": 4,
   "id": "cd1f4b06",
   "metadata": {},
   "outputs": [
    {
     "data": {
      "text/html": [
       "<div>\n",
       "<style scoped>\n",
       "    .dataframe tbody tr th:only-of-type {\n",
       "        vertical-align: middle;\n",
       "    }\n",
       "\n",
       "    .dataframe tbody tr th {\n",
       "        vertical-align: top;\n",
       "    }\n",
       "\n",
       "    .dataframe thead th {\n",
       "        text-align: right;\n",
       "    }\n",
       "</style>\n",
       "<table border=\"1\" class=\"dataframe\">\n",
       "  <thead>\n",
       "    <tr style=\"text-align: right;\">\n",
       "      <th></th>\n",
       "      <th>TV</th>\n",
       "      <th>Radio</th>\n",
       "      <th>Newspaper</th>\n",
       "      <th>Sales</th>\n",
       "    </tr>\n",
       "  </thead>\n",
       "  <tbody>\n",
       "    <tr>\n",
       "      <th>0</th>\n",
       "      <td>230.1</td>\n",
       "      <td>37.8</td>\n",
       "      <td>69.2</td>\n",
       "      <td>22.1</td>\n",
       "    </tr>\n",
       "    <tr>\n",
       "      <th>1</th>\n",
       "      <td>44.5</td>\n",
       "      <td>39.3</td>\n",
       "      <td>45.1</td>\n",
       "      <td>10.4</td>\n",
       "    </tr>\n",
       "    <tr>\n",
       "      <th>2</th>\n",
       "      <td>17.2</td>\n",
       "      <td>45.9</td>\n",
       "      <td>69.3</td>\n",
       "      <td>12.0</td>\n",
       "    </tr>\n",
       "    <tr>\n",
       "      <th>3</th>\n",
       "      <td>151.5</td>\n",
       "      <td>41.3</td>\n",
       "      <td>58.5</td>\n",
       "      <td>16.5</td>\n",
       "    </tr>\n",
       "    <tr>\n",
       "      <th>4</th>\n",
       "      <td>180.8</td>\n",
       "      <td>10.8</td>\n",
       "      <td>58.4</td>\n",
       "      <td>17.9</td>\n",
       "    </tr>\n",
       "    <tr>\n",
       "      <th>...</th>\n",
       "      <td>...</td>\n",
       "      <td>...</td>\n",
       "      <td>...</td>\n",
       "      <td>...</td>\n",
       "    </tr>\n",
       "    <tr>\n",
       "      <th>195</th>\n",
       "      <td>38.2</td>\n",
       "      <td>3.7</td>\n",
       "      <td>13.8</td>\n",
       "      <td>7.6</td>\n",
       "    </tr>\n",
       "    <tr>\n",
       "      <th>196</th>\n",
       "      <td>94.2</td>\n",
       "      <td>4.9</td>\n",
       "      <td>8.1</td>\n",
       "      <td>14.0</td>\n",
       "    </tr>\n",
       "    <tr>\n",
       "      <th>197</th>\n",
       "      <td>177.0</td>\n",
       "      <td>9.3</td>\n",
       "      <td>6.4</td>\n",
       "      <td>14.8</td>\n",
       "    </tr>\n",
       "    <tr>\n",
       "      <th>198</th>\n",
       "      <td>283.6</td>\n",
       "      <td>42.0</td>\n",
       "      <td>66.2</td>\n",
       "      <td>25.5</td>\n",
       "    </tr>\n",
       "    <tr>\n",
       "      <th>199</th>\n",
       "      <td>232.1</td>\n",
       "      <td>8.6</td>\n",
       "      <td>8.7</td>\n",
       "      <td>18.4</td>\n",
       "    </tr>\n",
       "  </tbody>\n",
       "</table>\n",
       "<p>200 rows × 4 columns</p>\n",
       "</div>"
      ],
      "text/plain": [
       "        TV  Radio  Newspaper  Sales\n",
       "0    230.1   37.8       69.2   22.1\n",
       "1     44.5   39.3       45.1   10.4\n",
       "2     17.2   45.9       69.3   12.0\n",
       "3    151.5   41.3       58.5   16.5\n",
       "4    180.8   10.8       58.4   17.9\n",
       "..     ...    ...        ...    ...\n",
       "195   38.2    3.7       13.8    7.6\n",
       "196   94.2    4.9        8.1   14.0\n",
       "197  177.0    9.3        6.4   14.8\n",
       "198  283.6   42.0       66.2   25.5\n",
       "199  232.1    8.6        8.7   18.4\n",
       "\n",
       "[200 rows x 4 columns]"
      ]
     },
     "execution_count": 4,
     "metadata": {},
     "output_type": "execute_result"
    }
   ],
   "source": [
    "data"
   ]
  },
  {
   "cell_type": "code",
   "execution_count": 5,
   "id": "6bc31e3a",
   "metadata": {},
   "outputs": [
    {
     "data": {
      "text/html": [
       "<div>\n",
       "<style scoped>\n",
       "    .dataframe tbody tr th:only-of-type {\n",
       "        vertical-align: middle;\n",
       "    }\n",
       "\n",
       "    .dataframe tbody tr th {\n",
       "        vertical-align: top;\n",
       "    }\n",
       "\n",
       "    .dataframe thead th {\n",
       "        text-align: right;\n",
       "    }\n",
       "</style>\n",
       "<table border=\"1\" class=\"dataframe\">\n",
       "  <thead>\n",
       "    <tr style=\"text-align: right;\">\n",
       "      <th></th>\n",
       "      <th>TV</th>\n",
       "      <th>Radio</th>\n",
       "      <th>Newspaper</th>\n",
       "      <th>Sales</th>\n",
       "    </tr>\n",
       "  </thead>\n",
       "  <tbody>\n",
       "    <tr>\n",
       "      <th>0</th>\n",
       "      <td>230.1</td>\n",
       "      <td>37.8</td>\n",
       "      <td>69.2</td>\n",
       "      <td>22.1</td>\n",
       "    </tr>\n",
       "    <tr>\n",
       "      <th>1</th>\n",
       "      <td>44.5</td>\n",
       "      <td>39.3</td>\n",
       "      <td>45.1</td>\n",
       "      <td>10.4</td>\n",
       "    </tr>\n",
       "    <tr>\n",
       "      <th>2</th>\n",
       "      <td>17.2</td>\n",
       "      <td>45.9</td>\n",
       "      <td>69.3</td>\n",
       "      <td>12.0</td>\n",
       "    </tr>\n",
       "    <tr>\n",
       "      <th>3</th>\n",
       "      <td>151.5</td>\n",
       "      <td>41.3</td>\n",
       "      <td>58.5</td>\n",
       "      <td>16.5</td>\n",
       "    </tr>\n",
       "    <tr>\n",
       "      <th>4</th>\n",
       "      <td>180.8</td>\n",
       "      <td>10.8</td>\n",
       "      <td>58.4</td>\n",
       "      <td>17.9</td>\n",
       "    </tr>\n",
       "  </tbody>\n",
       "</table>\n",
       "</div>"
      ],
      "text/plain": [
       "      TV  Radio  Newspaper  Sales\n",
       "0  230.1   37.8       69.2   22.1\n",
       "1   44.5   39.3       45.1   10.4\n",
       "2   17.2   45.9       69.3   12.0\n",
       "3  151.5   41.3       58.5   16.5\n",
       "4  180.8   10.8       58.4   17.9"
      ]
     },
     "execution_count": 5,
     "metadata": {},
     "output_type": "execute_result"
    }
   ],
   "source": [
    "data.head()"
   ]
  },
  {
   "cell_type": "code",
   "execution_count": 6,
   "id": "f7a87c40",
   "metadata": {},
   "outputs": [],
   "source": [
    "x = data.iloc[:,:-1].values\n",
    "y = data.iloc[:,3].values"
   ]
  },
  {
   "cell_type": "code",
   "execution_count": 7,
   "id": "c92300ff",
   "metadata": {},
   "outputs": [
    {
     "data": {
      "text/plain": [
       "array([[230.1,  37.8,  69.2],\n",
       "       [ 44.5,  39.3,  45.1],\n",
       "       [ 17.2,  45.9,  69.3],\n",
       "       [151.5,  41.3,  58.5],\n",
       "       [180.8,  10.8,  58.4],\n",
       "       [  8.7,  48.9,  75. ],\n",
       "       [ 57.5,  32.8,  23.5],\n",
       "       [120.2,  19.6,  11.6],\n",
       "       [  8.6,   2.1,   1. ],\n",
       "       [199.8,   2.6,  21.2],\n",
       "       [ 66.1,   5.8,  24.2],\n",
       "       [214.7,  24. ,   4. ],\n",
       "       [ 23.8,  35.1,  65.9],\n",
       "       [ 97.5,   7.6,   7.2],\n",
       "       [204.1,  32.9,  46. ],\n",
       "       [195.4,  47.7,  52.9],\n",
       "       [ 67.8,  36.6, 114. ],\n",
       "       [281.4,  39.6,  55.8],\n",
       "       [ 69.2,  20.5,  18.3],\n",
       "       [147.3,  23.9,  19.1],\n",
       "       [218.4,  27.7,  53.4],\n",
       "       [237.4,   5.1,  23.5],\n",
       "       [ 13.2,  15.9,  49.6],\n",
       "       [228.3,  16.9,  26.2],\n",
       "       [ 62.3,  12.6,  18.3],\n",
       "       [262.9,   3.5,  19.5],\n",
       "       [142.9,  29.3,  12.6],\n",
       "       [240.1,  16.7,  22.9],\n",
       "       [248.8,  27.1,  22.9],\n",
       "       [ 70.6,  16. ,  40.8],\n",
       "       [292.9,  28.3,  43.2],\n",
       "       [112.9,  17.4,  38.6],\n",
       "       [ 97.2,   1.5,  30. ],\n",
       "       [265.6,  20. ,   0.3],\n",
       "       [ 95.7,   1.4,   7.4],\n",
       "       [290.7,   4.1,   8.5],\n",
       "       [266.9,  43.8,   5. ],\n",
       "       [ 74.7,  49.4,  45.7],\n",
       "       [ 43.1,  26.7,  35.1],\n",
       "       [228. ,  37.7,  32. ],\n",
       "       [202.5,  22.3,  31.6],\n",
       "       [177. ,  33.4,  38.7],\n",
       "       [293.6,  27.7,   1.8],\n",
       "       [206.9,   8.4,  26.4],\n",
       "       [ 25.1,  25.7,  43.3],\n",
       "       [175.1,  22.5,  31.5],\n",
       "       [ 89.7,   9.9,  35.7],\n",
       "       [239.9,  41.5,  18.5],\n",
       "       [227.2,  15.8,  49.9],\n",
       "       [ 66.9,  11.7,  36.8],\n",
       "       [199.8,   3.1,  34.6],\n",
       "       [100.4,   9.6,   3.6],\n",
       "       [216.4,  41.7,  39.6],\n",
       "       [182.6,  46.2,  58.7],\n",
       "       [262.7,  28.8,  15.9],\n",
       "       [198.9,  49.4,  60. ],\n",
       "       [  7.3,  28.1,  41.4],\n",
       "       [136.2,  19.2,  16.6],\n",
       "       [210.8,  49.6,  37.7],\n",
       "       [210.7,  29.5,   9.3],\n",
       "       [ 53.5,   2. ,  21.4],\n",
       "       [261.3,  42.7,  54.7],\n",
       "       [239.3,  15.5,  27.3],\n",
       "       [102.7,  29.6,   8.4],\n",
       "       [131.1,  42.8,  28.9],\n",
       "       [ 69. ,   9.3,   0.9],\n",
       "       [ 31.5,  24.6,   2.2],\n",
       "       [139.3,  14.5,  10.2],\n",
       "       [237.4,  27.5,  11. ],\n",
       "       [216.8,  43.9,  27.2],\n",
       "       [199.1,  30.6,  38.7],\n",
       "       [109.8,  14.3,  31.7],\n",
       "       [ 26.8,  33. ,  19.3],\n",
       "       [129.4,   5.7,  31.3],\n",
       "       [213.4,  24.6,  13.1],\n",
       "       [ 16.9,  43.7,  89.4],\n",
       "       [ 27.5,   1.6,  20.7],\n",
       "       [120.5,  28.5,  14.2],\n",
       "       [  5.4,  29.9,   9.4],\n",
       "       [116. ,   7.7,  23.1],\n",
       "       [ 76.4,  26.7,  22.3],\n",
       "       [239.8,   4.1,  36.9],\n",
       "       [ 75.3,  20.3,  32.5],\n",
       "       [ 68.4,  44.5,  35.6],\n",
       "       [213.5,  43. ,  33.8],\n",
       "       [193.2,  18.4,  65.7],\n",
       "       [ 76.3,  27.5,  16. ],\n",
       "       [110.7,  40.6,  63.2],\n",
       "       [ 88.3,  25.5,  73.4],\n",
       "       [109.8,  47.8,  51.4],\n",
       "       [134.3,   4.9,   9.3],\n",
       "       [ 28.6,   1.5,  33. ],\n",
       "       [217.7,  33.5,  59. ],\n",
       "       [250.9,  36.5,  72.3],\n",
       "       [107.4,  14. ,  10.9],\n",
       "       [163.3,  31.6,  52.9],\n",
       "       [197.6,   3.5,   5.9],\n",
       "       [184.9,  21. ,  22. ],\n",
       "       [289.7,  42.3,  51.2],\n",
       "       [135.2,  41.7,  45.9],\n",
       "       [222.4,   4.3,  49.8],\n",
       "       [296.4,  36.3, 100.9],\n",
       "       [280.2,  10.1,  21.4],\n",
       "       [187.9,  17.2,  17.9],\n",
       "       [238.2,  34.3,   5.3],\n",
       "       [137.9,  46.4,  59. ],\n",
       "       [ 25. ,  11. ,  29.7],\n",
       "       [ 90.4,   0.3,  23.2],\n",
       "       [ 13.1,   0.4,  25.6],\n",
       "       [255.4,  26.9,   5.5],\n",
       "       [225.8,   8.2,  56.5],\n",
       "       [241.7,  38. ,  23.2],\n",
       "       [175.7,  15.4,   2.4],\n",
       "       [209.6,  20.6,  10.7],\n",
       "       [ 78.2,  46.8,  34.5],\n",
       "       [ 75.1,  35. ,  52.7],\n",
       "       [139.2,  14.3,  25.6],\n",
       "       [ 76.4,   0.8,  14.8],\n",
       "       [125.7,  36.9,  79.2],\n",
       "       [ 19.4,  16. ,  22.3],\n",
       "       [141.3,  26.8,  46.2],\n",
       "       [ 18.8,  21.7,  50.4],\n",
       "       [224. ,   2.4,  15.6],\n",
       "       [123.1,  34.6,  12.4],\n",
       "       [229.5,  32.3,  74.2],\n",
       "       [ 87.2,  11.8,  25.9],\n",
       "       [  7.8,  38.9,  50.6],\n",
       "       [ 80.2,   0. ,   9.2],\n",
       "       [220.3,  49. ,   3.2],\n",
       "       [ 59.6,  12. ,  43.1],\n",
       "       [  0.7,  39.6,   8.7],\n",
       "       [265.2,   2.9,  43. ],\n",
       "       [  8.4,  27.2,   2.1],\n",
       "       [219.8,  33.5,  45.1],\n",
       "       [ 36.9,  38.6,  65.6],\n",
       "       [ 48.3,  47. ,   8.5],\n",
       "       [ 25.6,  39. ,   9.3],\n",
       "       [273.7,  28.9,  59.7],\n",
       "       [ 43. ,  25.9,  20.5],\n",
       "       [184.9,  43.9,   1.7],\n",
       "       [ 73.4,  17. ,  12.9],\n",
       "       [193.7,  35.4,  75.6],\n",
       "       [220.5,  33.2,  37.9],\n",
       "       [104.6,   5.7,  34.4],\n",
       "       [ 96.2,  14.8,  38.9],\n",
       "       [140.3,   1.9,   9. ],\n",
       "       [240.1,   7.3,   8.7],\n",
       "       [243.2,  49. ,  44.3],\n",
       "       [ 38. ,  40.3,  11.9],\n",
       "       [ 44.7,  25.8,  20.6],\n",
       "       [280.7,  13.9,  37. ],\n",
       "       [121. ,   8.4,  48.7],\n",
       "       [197.6,  23.3,  14.2],\n",
       "       [171.3,  39.7,  37.7],\n",
       "       [187.8,  21.1,   9.5],\n",
       "       [  4.1,  11.6,   5.7],\n",
       "       [ 93.9,  43.5,  50.5],\n",
       "       [149.8,   1.3,  24.3],\n",
       "       [ 11.7,  36.9,  45.2],\n",
       "       [131.7,  18.4,  34.6],\n",
       "       [172.5,  18.1,  30.7],\n",
       "       [ 85.7,  35.8,  49.3],\n",
       "       [188.4,  18.1,  25.6],\n",
       "       [163.5,  36.8,   7.4],\n",
       "       [117.2,  14.7,   5.4],\n",
       "       [234.5,   3.4,  84.8],\n",
       "       [ 17.9,  37.6,  21.6],\n",
       "       [206.8,   5.2,  19.4],\n",
       "       [215.4,  23.6,  57.6],\n",
       "       [284.3,  10.6,   6.4],\n",
       "       [ 50. ,  11.6,  18.4],\n",
       "       [164.5,  20.9,  47.4],\n",
       "       [ 19.6,  20.1,  17. ],\n",
       "       [168.4,   7.1,  12.8],\n",
       "       [222.4,   3.4,  13.1],\n",
       "       [276.9,  48.9,  41.8],\n",
       "       [248.4,  30.2,  20.3],\n",
       "       [170.2,   7.8,  35.2],\n",
       "       [276.7,   2.3,  23.7],\n",
       "       [165.6,  10. ,  17.6],\n",
       "       [156.6,   2.6,   8.3],\n",
       "       [218.5,   5.4,  27.4],\n",
       "       [ 56.2,   5.7,  29.7],\n",
       "       [287.6,  43. ,  71.8],\n",
       "       [253.8,  21.3,  30. ],\n",
       "       [205. ,  45.1,  19.6],\n",
       "       [139.5,   2.1,  26.6],\n",
       "       [191.1,  28.7,  18.2],\n",
       "       [286. ,  13.9,   3.7],\n",
       "       [ 18.7,  12.1,  23.4],\n",
       "       [ 39.5,  41.1,   5.8],\n",
       "       [ 75.5,  10.8,   6. ],\n",
       "       [ 17.2,   4.1,  31.6],\n",
       "       [166.8,  42. ,   3.6],\n",
       "       [149.7,  35.6,   6. ],\n",
       "       [ 38.2,   3.7,  13.8],\n",
       "       [ 94.2,   4.9,   8.1],\n",
       "       [177. ,   9.3,   6.4],\n",
       "       [283.6,  42. ,  66.2],\n",
       "       [232.1,   8.6,   8.7]])"
      ]
     },
     "execution_count": 7,
     "metadata": {},
     "output_type": "execute_result"
    }
   ],
   "source": [
    "x"
   ]
  },
  {
   "cell_type": "code",
   "execution_count": 8,
   "id": "9479213f",
   "metadata": {},
   "outputs": [
    {
     "data": {
      "text/plain": [
       "array([22.1, 10.4, 12. , 16.5, 17.9,  7.2, 11.8, 13.2,  4.8, 15.6, 12.6,\n",
       "       17.4,  9.2, 13.7, 19. , 22.4, 12.5, 24.4, 11.3, 14.6, 18. , 17.5,\n",
       "        5.6, 20.5,  9.7, 17. , 15. , 20.9, 18.9, 10.5, 21.4, 11.9, 13.2,\n",
       "       17.4, 11.9, 17.8, 25.4, 14.7, 10.1, 21.5, 16.6, 17.1, 20.7, 17.9,\n",
       "        8.5, 16.1, 10.6, 23.2, 19.8,  9.7, 16.4, 10.7, 22.6, 21.2, 20.2,\n",
       "       23.7,  5.5, 13.2, 23.8, 18.4,  8.1, 24.2, 20.7, 14. , 16. , 11.3,\n",
       "       11. , 13.4, 18.9, 22.3, 18.3, 12.4,  8.8, 11. , 17. ,  8.7,  6.9,\n",
       "       14.2,  5.3, 11. , 11.8, 17.3, 11.3, 13.6, 21.7, 20.2, 12. , 16. ,\n",
       "       12.9, 16.7, 14. ,  7.3, 19.4, 22.2, 11.5, 16.9, 16.7, 20.5, 25.4,\n",
       "       17.2, 16.7, 23.8, 19.8, 19.7, 20.7, 15. ,  7.2, 12. ,  5.3, 19.8,\n",
       "       18.4, 21.8, 17.1, 20.9, 14.6, 12.6, 12.2,  9.4, 15.9,  6.6, 15.5,\n",
       "        7. , 16.6, 15.2, 19.7, 10.6,  6.6, 11.9, 24.7,  9.7,  1.6, 17.7,\n",
       "        5.7, 19.6, 10.8, 11.6,  9.5, 20.8,  9.6, 20.7, 10.9, 19.2, 20.1,\n",
       "       10.4, 12.3, 10.3, 18.2, 25.4, 10.9, 10.1, 16.1, 11.6, 16.6, 16. ,\n",
       "       20.6,  3.2, 15.3, 10.1,  7.3, 12.9, 16.4, 13.3, 19.9, 18. , 11.9,\n",
       "       16.9,  8. , 17.2, 17.1, 20. ,  8.4, 17.5,  7.6, 16.7, 16.5, 27. ,\n",
       "       20.2, 16.7, 16.8, 17.6, 15.5, 17.2,  8.7, 26.2, 17.6, 22.6, 10.3,\n",
       "       17.3, 20.9,  6.7, 10.8, 11.9,  5.9, 19.6, 17.3,  7.6, 14. , 14.8,\n",
       "       25.5, 18.4])"
      ]
     },
     "execution_count": 8,
     "metadata": {},
     "output_type": "execute_result"
    }
   ],
   "source": [
    "y"
   ]
  },
  {
   "cell_type": "code",
   "execution_count": 9,
   "id": "6226e6ef",
   "metadata": {},
   "outputs": [
    {
     "data": {
      "text/plain": [
       "dtype('float64')"
      ]
     },
     "execution_count": 9,
     "metadata": {},
     "output_type": "execute_result"
    }
   ],
   "source": [
    "x.dtype"
   ]
  },
  {
   "cell_type": "code",
   "execution_count": 10,
   "id": "9d660d13",
   "metadata": {},
   "outputs": [
    {
     "data": {
      "text/plain": [
       "dtype('float64')"
      ]
     },
     "execution_count": 10,
     "metadata": {},
     "output_type": "execute_result"
    }
   ],
   "source": [
    "y.dtype"
   ]
  },
  {
   "cell_type": "code",
   "execution_count": 11,
   "id": "f1ecd324",
   "metadata": {},
   "outputs": [
    {
     "data": {
      "image/png": "[encoded data removed]",
      "text/plain": [
       "<Figure size 640x480 with 1 Axes>"
      ]
     },
     "metadata": {},
     "output_type": "display_data"
    }
   ],
   "source": [
    "plt.plot(x,y)\n",
    "plt.xlabel(\"TV, Radio and Newspaper\")\n",
    "plt.ylabel(\"Sales\")\n",
    "plt.show()"
   ]
  },
  {
   "cell_type": "code",
   "execution_count": 12,
   "id": "0e3e854b",
   "metadata": {},
   "outputs": [
    {
     "data": {
      "text/plain": [
       "<seaborn.axisgrid.PairGrid at 0x25ff0ff2d40>"
      ]
     },
     "execution_count": 12,
     "metadata": {},
     "output_type": "execute_result"
    },
    {
     "data": {
      "image/png": "[encoded data removed]",
      "text/plain": [
       "<Figure size 750x250 with 3 Axes>"
      ]
     },
     "metadata": {},
     "output_type": "display_data"
    }
   ],
   "source": [
    "sns.pairplot(data,x_vars = ['TV','Radio','Newspaper'],y_vars = 'Sales',kind = 'scatter',diag_kind = None)"
   ]
  },
  {
   "cell_type": "code",
   "execution_count": 13,
   "id": "66cb74d5",
   "metadata": {},
   "outputs": [],
   "source": [
    "import sklearn\n",
    "from sklearn.model_selection import train_test_split"
   ]
  },
  {
   "cell_type": "code",
   "execution_count": 14,
   "id": "c4be800c",
   "metadata": {},
   "outputs": [],
   "source": [
    "x_train,x_test,y_train,y_test = train_test_split(x,y,random_state = 0,train_size = 0.70)"
   ]
  },
  {
   "cell_type": "code",
   "execution_count": 15,
   "id": "8c7b2b8d",
   "metadata": {},
   "outputs": [
    {
     "data": {
      "text/plain": [
       "array([[265.2,   2.9,  43. ],\n",
       "       [197.6,   3.5,   5.9],\n",
       "       [218.5,   5.4,  27.4],\n",
       "       [147.3,  23.9,  19.1],\n",
       "       [171.3,  39.7,  37.7],\n",
       "       [217.7,  33.5,  59. ],\n",
       "       [262.7,  28.8,  15.9],\n",
       "       [163.5,  36.8,   7.4],\n",
       "       [100.4,   9.6,   3.6],\n",
       "       [ 76.3,  27.5,  16. ],\n",
       "       [184.9,  43.9,   1.7],\n",
       "       [134.3,   4.9,   9.3],\n",
       "       [273.7,  28.9,  59.7],\n",
       "       [296.4,  36.3, 100.9],\n",
       "       [ 96.2,  14.8,  38.9],\n",
       "       [109.8,  47.8,  51.4],\n",
       "       [255.4,  26.9,   5.5],\n",
       "       [204.1,  32.9,  46. ],\n",
       "       [240.1,  16.7,  22.9],\n",
       "       [193.7,  35.4,  75.6],\n",
       "       [191.1,  28.7,  18.2],\n",
       "       [ 89.7,   9.9,  35.7],\n",
       "       [ 43. ,  25.9,  20.5],\n",
       "       [ 38.2,   3.7,  13.8],\n",
       "       [ 13.1,   0.4,  25.6],\n",
       "       [239.3,  15.5,  27.3],\n",
       "       [ 17.2,  45.9,  69.3],\n",
       "       [210.7,  29.5,   9.3],\n",
       "       [ 25.6,  39. ,   9.3],\n",
       "       [177. ,   9.3,   6.4],\n",
       "       [206.9,   8.4,  26.4],\n",
       "       [ 66.1,   5.8,  24.2],\n",
       "       [149.7,  35.6,   6. ],\n",
       "       [129.4,   5.7,  31.3],\n",
       "       [ 94.2,   4.9,   8.1],\n",
       "       [276.7,   2.3,  23.7],\n",
       "       [276.9,  48.9,  41.8],\n",
       "       [  7.8,  38.9,  50.6],\n",
       "       [250.9,  36.5,  72.3],\n",
       "       [175.7,  15.4,   2.4],\n",
       "       [ 11.7,  36.9,  45.2],\n",
       "       [ 75.5,  10.8,   6. ],\n",
       "       [199.8,   3.1,  34.6],\n",
       "       [230.1,  37.8,  69.2],\n",
       "       [107.4,  14. ,  10.9],\n",
       "       [225.8,   8.2,  56.5],\n",
       "       [163.3,  31.6,  52.9],\n",
       "       [131.1,  42.8,  28.9],\n",
       "       [206.8,   5.2,  19.4],\n",
       "       [177. ,  33.4,  38.7],\n",
       "       [216.8,  43.9,  27.2],\n",
       "       [ 66.9,  11.7,  36.8],\n",
       "       [227.2,  15.8,  49.9],\n",
       "       [193.2,  18.4,  65.7],\n",
       "       [ 97.5,   7.6,   7.2],\n",
       "       [ 85.7,  35.8,  49.3],\n",
       "       [228.3,  16.9,  26.2],\n",
       "       [139.5,   2.1,  26.6],\n",
       "       [ 48.3,  47. ,   8.5],\n",
       "       [218.4,  27.7,  53.4],\n",
       "       [195.4,  47.7,  52.9],\n",
       "       [  5.4,  29.9,   9.4],\n",
       "       [238.2,  34.3,   5.3],\n",
       "       [216.4,  41.7,  39.6],\n",
       "       [222.4,   4.3,  49.8],\n",
       "       [ 27.5,   1.6,  20.7],\n",
       "       [151.5,  41.3,  58.5],\n",
       "       [139.2,  14.3,  25.6],\n",
       "       [117.2,  14.7,   5.4],\n",
       "       [283.6,  42. ,  66.2],\n",
       "       [ 57.5,  32.8,  23.5],\n",
       "       [237.4,  27.5,  11. ],\n",
       "       [213.5,  43. ,  33.8],\n",
       "       [ 18.8,  21.7,  50.4],\n",
       "       [  4.1,  11.6,   5.7],\n",
       "       [164.5,  20.9,  47.4],\n",
       "       [ 93.9,  43.5,  50.5],\n",
       "       [ 28.6,   1.5,  33. ],\n",
       "       [232.1,   8.6,   8.7],\n",
       "       [214.7,  24. ,   4. ],\n",
       "       [ 19.4,  16. ,  22.3],\n",
       "       [280.2,  10.1,  21.4],\n",
       "       [290.7,   4.1,   8.5],\n",
       "       [136.2,  19.2,  16.6],\n",
       "       [ 69. ,   9.3,   0.9],\n",
       "       [ 44.5,  39.3,  45.1],\n",
       "       [141.3,  26.8,  46.2],\n",
       "       [188.4,  18.1,  25.6],\n",
       "       [293.6,  27.7,   1.8],\n",
       "       [137.9,  46.4,  59. ],\n",
       "       [  8.4,  27.2,   2.1],\n",
       "       [168.4,   7.1,  12.8],\n",
       "       [281.4,  39.6,  55.8],\n",
       "       [ 43.1,  26.7,  35.1],\n",
       "       [219.8,  33.5,  45.1],\n",
       "       [182.6,  46.2,  58.7],\n",
       "       [149.8,   1.3,  24.3],\n",
       "       [220.3,  49. ,   3.2],\n",
       "       [ 95.7,   1.4,   7.4],\n",
       "       [248.8,  27.1,  22.9],\n",
       "       [ 78.2,  46.8,  34.5],\n",
       "       [121. ,   8.4,  48.7],\n",
       "       [112.9,  17.4,  38.6],\n",
       "       [ 17.9,  37.6,  21.6],\n",
       "       [ 80.2,   0. ,   9.2],\n",
       "       [248.4,  30.2,  20.3],\n",
       "       [ 97.2,   1.5,  30. ],\n",
       "       [220.5,  33.2,  37.9],\n",
       "       [284.3,  10.6,   6.4],\n",
       "       [243.2,  49. ,  44.3],\n",
       "       [ 70.6,  16. ,  40.8],\n",
       "       [135.2,  41.7,  45.9],\n",
       "       [ 75.3,  20.3,  32.5],\n",
       "       [116. ,   7.7,  23.1],\n",
       "       [ 75.1,  35. ,  52.7],\n",
       "       [ 38. ,  40.3,  11.9],\n",
       "       [166.8,  42. ,   3.6],\n",
       "       [ 26.8,  33. ,  19.3],\n",
       "       [120.5,  28.5,  14.2],\n",
       "       [262.9,   3.5,  19.5],\n",
       "       [234.5,   3.4,  84.8],\n",
       "       [239.8,   4.1,  36.9],\n",
       "       [286. ,  13.9,   3.7],\n",
       "       [222.4,   3.4,  13.1],\n",
       "       [ 39.5,  41.1,   5.8],\n",
       "       [228. ,  37.7,  32. ],\n",
       "       [210.8,  49.6,  37.7],\n",
       "       [ 73.4,  17. ,  12.9],\n",
       "       [ 88.3,  25.5,  73.4],\n",
       "       [199.1,  30.6,  38.7],\n",
       "       [110.7,  40.6,  63.2],\n",
       "       [266.9,  43.8,   5. ],\n",
       "       [237.4,   5.1,  23.5],\n",
       "       [199.8,   2.6,  21.2],\n",
       "       [187.9,  17.2,  17.9],\n",
       "       [139.3,  14.5,  10.2],\n",
       "       [ 17.2,   4.1,  31.6],\n",
       "       [ 76.4,   0.8,  14.8],\n",
       "       [239.9,  41.5,  18.5],\n",
       "       [ 19.6,  20.1,  17. ]])"
      ]
     },
     "execution_count": 15,
     "metadata": {},
     "output_type": "execute_result"
    }
   ],
   "source": [
    "x_train"
   ]
  },
  {
   "cell_type": "code",
   "execution_count": 16,
   "id": "3c5e5f83",
   "metadata": {},
   "outputs": [
    {
     "data": {
      "text/plain": [
       "array([17.7, 16.7, 17.2, 14.6, 16. , 19.4, 20.2, 18. , 10.7, 12. , 20.7,\n",
       "       14. , 20.8, 23.8, 12.3, 16.7, 19.8, 19. , 20.9, 19.2, 17.3, 10.6,\n",
       "        9.6,  7.6,  5.3, 20.7, 12. , 18.4,  9.5, 14.8, 17.9, 12.6, 17.3,\n",
       "       11. , 14. , 16.8, 27. ,  6.6, 22.2, 17.1,  7.3, 11.9, 16.4, 22.1,\n",
       "       11.5, 18.4, 16.9, 16. , 17.2, 17.1, 22.3,  9.7, 19.8, 20.2, 13.7,\n",
       "       13.3, 20.5, 10.3, 11.6, 18. , 22.4,  5.3, 20.7, 22.6, 16.7,  6.9,\n",
       "       16.5, 12.2, 11.9, 25.5, 11.8, 18.9, 21.7,  7. ,  3.2, 17.5, 15.3,\n",
       "        7.3, 18.4, 17.4,  6.6, 19.8, 17.8, 13.2, 11.3, 10.4, 15.5, 19.9,\n",
       "       20.7, 15. ,  5.7, 16.7, 24.4, 10.1, 19.6, 21.2, 10.1, 24.7, 11.9,\n",
       "       18.9, 14.6, 11.6, 11.9,  8. , 11.9, 20.2, 13.2, 20.1, 20. , 25.4,\n",
       "       10.5, 17.2, 11.3, 11. , 12.6, 10.9, 19.6,  8.8, 14.2, 17. , 16.9,\n",
       "       17.3, 20.9, 16.5, 10.8, 21.5, 23.8, 10.9, 12.9, 18.3, 16. , 25.4,\n",
       "       17.5, 15.6, 19.7, 13.4,  5.9,  9.4, 23.2,  7.6])"
      ]
     },
     "execution_count": 16,
     "metadata": {},
     "output_type": "execute_result"
    }
   ],
   "source": [
    "y_train"
   ]
  },
  {
   "cell_type": "code",
   "execution_count": 17,
   "id": "8b5e2f16",
   "metadata": {},
   "outputs": [],
   "source": [
    "from sklearn import linear_model"
   ]
  },
  {
   "cell_type": "code",
   "execution_count": 18,
   "id": "d4fa4407",
   "metadata": {},
   "outputs": [],
   "source": [
    "from sklearn.linear_model import LinearRegression"
   ]
  },
  {
   "cell_type": "code",
   "execution_count": 19,
   "id": "cef26625",
   "metadata": {},
   "outputs": [],
   "source": [
    "model = LinearRegression()"
   ]
  },
  {
   "cell_type": "code",
   "execution_count": 20,
   "id": "1719348a",
   "metadata": {},
   "outputs": [
    {
     "data": {
      "text/html": [
       "<style>#sk-container-id-1 {color: black;background-color: white;}#sk-container-id-1 pre{padding: 0;}#sk-container-id-1 div.sk-toggleable {background-color: white;}#sk-container-id-1 label.sk-toggleable__label {cursor: pointer;display: block;width: 100%;margin-bottom: 0;padding: 0.3em;box-sizing: border-box;text-align: center;}#sk-container-id-1 label.sk-toggleable__label-arrow:before {content: \"▸\";float: left;margin-right: 0.25em;color: #696969;}#sk-container-id-1 label.sk-toggleable__label-arrow:hover:before {color: black;}#sk-container-id-1 div.sk-estimator:hover label.sk-toggleable__label-arrow:before {color: black;}#sk-container-id-1 div.sk-toggleable__content {max-height: 0;max-width: 0;overflow: hidden;text-align: left;background-color: #f0f8ff;}#sk-container-id-1 div.sk-toggleable__content pre {margin: 0.2em;color: black;border-radius: 0.25em;background-color: #f0f8ff;}#sk-container-id-1 input.sk-toggleable__control:checked~div.sk-toggleable__content {max-height: 200px;max-width: 100%;overflow: auto;}#sk-container-id-1 input.sk-toggleable__control:checked~label.sk-toggleable__label-arrow:before {content: \"▾\";}#sk-container-id-1 div.sk-estimator input.sk-toggleable__control:checked~label.sk-toggleable__label {background-color: #d4ebff;}#sk-container-id-1 div.sk-label input.sk-toggleable__control:checked~label.sk-toggleable__label {background-color: #d4ebff;}#sk-container-id-1 input.sk-hidden--visually {border: 0;clip: rect(1px 1px 1px 1px);clip: rect(1px, 1px, 1px, 1px);height: 1px;margin: -1px;overflow: hidden;padding: 0;position: absolute;width: 1px;}#sk-container-id-1 div.sk-estimator {font-family: monospace;background-color: #f0f8ff;border: 1px dotted black;border-radius: 0.25em;box-sizing: border-box;margin-bottom: 0.5em;}#sk-container-id-1 div.sk-estimator:hover {background-color: #d4ebff;}#sk-container-id-1 div.sk-parallel-item::after {content: \"\";width: 100%;border-bottom: 1px solid gray;flex-grow: 1;}#sk-container-id-1 div.sk-label:hover label.sk-toggleable__label {background-color: #d4ebff;}#sk-container-id-1 div.sk-serial::before {content: \"\";position: absolute;border-left: 1px solid gray;box-sizing: border-box;top: 0;bottom: 0;left: 50%;z-index: 0;}#sk-container-id-1 div.sk-serial {display: flex;flex-direction: column;align-items: center;background-color: white;padding-right: 0.2em;padding-left: 0.2em;position: relative;}#sk-container-id-1 div.sk-item {position: relative;z-index: 1;}#sk-container-id-1 div.sk-parallel {display: flex;align-items: stretch;justify-content: center;background-color: white;position: relative;}#sk-container-id-1 div.sk-item::before, #sk-container-id-1 div.sk-parallel-item::before {content: \"\";position: absolute;border-left: 1px solid gray;box-sizing: border-box;top: 0;bottom: 0;left: 50%;z-index: -1;}#sk-container-id-1 div.sk-parallel-item {display: flex;flex-direction: column;z-index: 1;position: relative;background-color: white;}#sk-container-id-1 div.sk-parallel-item:first-child::after {align-self: flex-end;width: 50%;}#sk-container-id-1 div.sk-parallel-item:last-child::after {align-self: flex-start;width: 50%;}#sk-container-id-1 div.sk-parallel-item:only-child::after {width: 0;}#sk-container-id-1 div.sk-dashed-wrapped {border: 1px dashed gray;margin: 0 0.4em 0.5em 0.4em;box-sizing: border-box;padding-bottom: 0.4em;background-color: white;}#sk-container-id-1 div.sk-label label {font-family: monospace;font-weight: bold;display: inline-block;line-height: 1.2em;}#sk-container-id-1 div.sk-label-container {text-align: center;}#sk-container-id-1 div.sk-container {/* jupyter's `normalize.less` sets `[hidden] { display: none; }` but bootstrap.min.css set `[hidden] { display: none !important; }` so we also need the `!important` here to be able to override the default hidden behavior on the sphinx rendered scikit-learn.org. See: https://github.com/scikit-learn/scikit-learn/issues/21755 */display: inline-block !important;position: relative;}#sk-container-id-1 div.sk-text-repr-fallback {display: none;}</style><div id=\"sk-container-id-1\" class=\"sk-top-container\"><div class=\"sk-text-repr-fallback\"><pre>LinearRegression()</pre><b>In a Jupyter environment, please rerun this cell to show the HTML representation or trust the notebook. <br />On GitHub, the HTML representation is unable to render, please try loading this page with nbviewer.org.</b></div><div class=\"sk-container\" hidden><div class=\"sk-item\"><div class=\"sk-estimator sk-toggleable\"><input class=\"sk-toggleable__control sk-hidden--visually\" id=\"sk-estimator-id-1\" type=\"checkbox\" checked><label for=\"sk-estimator-id-1\" class=\"sk-toggleable__label sk-toggleable__label-arrow\">LinearRegression</label><div class=\"sk-toggleable__content\"><pre>LinearRegression()</pre></div></div></div></div></div>"
      ],
      "text/plain": [
       "LinearRegression()"
      ]
     },
     "execution_count": 20,
     "metadata": {},
     "output_type": "execute_result"
    }
   ],
   "source": [
    "model.fit(x_train,y_train)"
   ]
  },
  {
   "cell_type": "code",
   "execution_count": 21,
   "id": "0c3518de",
   "metadata": {},
   "outputs": [],
   "source": [
    "y_predicted = model.predict(x_test)"
   ]
  },
  {
   "cell_type": "code",
   "execution_count": 22,
   "id": "5579ed3e",
   "metadata": {},
   "outputs": [
    {
     "data": {
      "text/plain": [
       "array([10.68909303,  8.67371102,  9.59969914, 24.99989846, 14.73590568,\n",
       "        8.37604918, 10.70350416, 18.37670708,  9.9670026 , 17.87946837,\n",
       "       23.52765543, 10.70692059, 13.37566958, 17.10051561, 11.77005197,\n",
       "       13.31194616, 21.13395461,  9.10945664, 14.24009701, 18.86885012,\n",
       "       25.00670623, 12.42508633, 16.61899482, 13.84289673,  7.80458355,\n",
       "       15.13012055, 14.69687153, 20.70140682, 16.9844145 ,  8.94984434,\n",
       "       12.59168427, 20.93257626, 21.34337227, 21.89151357,  7.23908022,\n",
       "        7.06001103,  9.28335812, 15.6840471 , 13.33894748,  7.28903633,\n",
       "       11.05676585,  9.08768206, 15.60592891, 18.21716827, 18.9560652 ,\n",
       "       13.47385617,  5.36520991, 10.59696871, 15.66036131, 10.98229096,\n",
       "       12.20805533, 20.70970272, 20.70533061, 16.95931925,  9.96622132,\n",
       "        9.44413497, 23.60505449, 15.99066008, 18.06706692,  8.25675464])"
      ]
     },
     "execution_count": 22,
     "metadata": {},
     "output_type": "execute_result"
    }
   ],
   "source": [
    "y_predicted"
   ]
  },
  {
   "cell_type": "code",
   "execution_count": 23,
   "id": "e3f9d501",
   "metadata": {},
   "outputs": [
    {
     "data": {
      "text/plain": [
       "array([[ 69.2,  20.5,  18.3],\n",
       "       [ 50. ,  11.6,  18.4],\n",
       "       [ 90.4,   0.3,  23.2],\n",
       "       [289.7,  42.3,  51.2],\n",
       "       [170.2,   7.8,  35.2],\n",
       "       [ 56.2,   5.7,  29.7],\n",
       "       [  8.7,  48.9,  75. ],\n",
       "       [240.1,   7.3,   8.7],\n",
       "       [ 23.8,  35.1,  65.9],\n",
       "       [197.6,  23.3,  14.2],\n",
       "       [261.3,  42.7,  54.7],\n",
       "       [ 87.2,  11.8,  25.9],\n",
       "       [156.6,   2.6,   8.3],\n",
       "       [187.8,  21.1,   9.5],\n",
       "       [ 76.4,  26.7,  22.3],\n",
       "       [120.2,  19.6,  11.6],\n",
       "       [265.6,  20. ,   0.3],\n",
       "       [  0.7,  39.6,   8.7],\n",
       "       [ 74.7,  49.4,  45.7],\n",
       "       [213.4,  24.6,  13.1],\n",
       "       [287.6,  43. ,  71.8],\n",
       "       [140.3,   1.9,   9. ],\n",
       "       [175.1,  22.5,  31.5],\n",
       "       [131.7,  18.4,  34.6],\n",
       "       [ 53.5,   2. ,  21.4],\n",
       "       [123.1,  34.6,  12.4],\n",
       "       [165.6,  10. ,  17.6],\n",
       "       [205. ,  45.1,  19.6],\n",
       "       [224. ,   2.4,  15.6],\n",
       "       [ 25.1,  25.7,  43.3],\n",
       "       [ 67.8,  36.6, 114. ],\n",
       "       [198.9,  49.4,  60. ],\n",
       "       [280.7,  13.9,  37. ],\n",
       "       [241.7,  38. ,  23.2],\n",
       "       [ 13.2,  15.9,  49.6],\n",
       "       [ 18.7,  12.1,  23.4],\n",
       "       [ 59.6,  12. ,  43.1],\n",
       "       [180.8,  10.8,  58.4],\n",
       "       [ 68.4,  44.5,  35.6],\n",
       "       [ 25. ,  11. ,  29.7],\n",
       "       [ 36.9,  38.6,  65.6],\n",
       "       [ 31.5,  24.6,   2.2],\n",
       "       [142.9,  29.3,  12.6],\n",
       "       [209.6,  20.6,  10.7],\n",
       "       [215.4,  23.6,  57.6],\n",
       "       [102.7,  29.6,   8.4],\n",
       "       [  8.6,   2.1,   1. ],\n",
       "       [ 16.9,  43.7,  89.4],\n",
       "       [125.7,  36.9,  79.2],\n",
       "       [104.6,   5.7,  34.4],\n",
       "       [109.8,  14.3,  31.7],\n",
       "       [229.5,  32.3,  74.2],\n",
       "       [253.8,  21.3,  30. ],\n",
       "       [184.9,  21. ,  22. ],\n",
       "       [ 44.7,  25.8,  20.6],\n",
       "       [ 62.3,  12.6,  18.3],\n",
       "       [292.9,  28.3,  43.2],\n",
       "       [172.5,  18.1,  30.7],\n",
       "       [202.5,  22.3,  31.6],\n",
       "       [  7.3,  28.1,  41.4]])"
      ]
     },
     "execution_count": 23,
     "metadata": {},
     "output_type": "execute_result"
    }
   ],
   "source": [
    "x_test"
   ]
  },
  {
   "cell_type": "code",
   "execution_count": 24,
   "id": "8f44818d",
   "metadata": {},
   "outputs": [],
   "source": [
    "from sklearn.metrics import mean_squared_error"
   ]
  },
  {
   "cell_type": "code",
   "execution_count": 25,
   "id": "e9f45884",
   "metadata": {},
   "outputs": [],
   "source": [
    "mse = mean_squared_error(y_test,y_predicted)"
   ]
  },
  {
   "cell_type": "code",
   "execution_count": 26,
   "id": "b6a7942a",
   "metadata": {},
   "outputs": [
    {
     "data": {
      "text/plain": [
       "3.9380152204802856"
      ]
     },
     "execution_count": 26,
     "metadata": {},
     "output_type": "execute_result"
    }
   ],
   "source": [
    "mse"
   ]
  },
  {
   "cell_type": "code",
   "execution_count": 27,
   "id": "a6d4c96c",
   "metadata": {},
   "outputs": [],
   "source": [
    "from sklearn.metrics import mean_absolute_error"
   ]
  },
  {
   "cell_type": "code",
   "execution_count": 28,
   "id": "9bd1f3cf",
   "metadata": {},
   "outputs": [],
   "source": [
    "mae = mean_absolute_error(y_test,y_predicted)"
   ]
  },
  {
   "cell_type": "code",
   "execution_count": 29,
   "id": "926a65ac",
   "metadata": {},
   "outputs": [
    {
     "data": {
      "text/plain": [
       "1.3662313868452762"
      ]
     },
     "execution_count": 29,
     "metadata": {},
     "output_type": "execute_result"
    }
   ],
   "source": [
    "mae"
   ]
  },
  {
   "cell_type": "code",
   "execution_count": 30,
   "id": "3427374d",
   "metadata": {},
   "outputs": [],
   "source": [
    "from sklearn.metrics import mean_absolute_percentage_error"
   ]
  },
  {
   "cell_type": "code",
   "execution_count": 31,
   "id": "52bfbe4f",
   "metadata": {},
   "outputs": [],
   "source": [
    "mape = mean_absolute_percentage_error(y_test,y_predicted)"
   ]
  },
  {
   "cell_type": "code",
   "execution_count": 32,
   "id": "7198d87a",
   "metadata": {},
   "outputs": [
    {
     "data": {
      "text/plain": [
       "0.17222599691973425"
      ]
     },
     "execution_count": 32,
     "metadata": {},
     "output_type": "execute_result"
    }
   ],
   "source": [
    "mape"
   ]
  },
  {
   "cell_type": "code",
   "execution_count": 33,
   "id": "612cba52",
   "metadata": {},
   "outputs": [],
   "source": [
    "accuracy = 100 - mape"
   ]
  },
  {
   "cell_type": "code",
   "execution_count": 34,
   "id": "855bb313",
   "metadata": {},
   "outputs": [
    {
     "data": {
      "text/plain": [
       "99.82777400308026"
      ]
     },
     "execution_count": 34,
     "metadata": {},
     "output_type": "execute_result"
    }
   ],
   "source": [
    "accuracy"
   ]
  },
  {
   "cell_type": "code",
   "execution_count": null,
   "id": "f883ded5",
   "metadata": {},
   "outputs": [],
   "source": []
  }
 ],
 "metadata": {
  "kernelspec": {
   "display_name": "Python 3 (ipykernel)",
   "language": "python",
   "name": "python3"
  },
  "language_info": {
   "codemirror_mode": {
    "name": "ipython",
    "version": 3
   },
   "file_extension": ".py",
   "mimetype": "text/x-python",
   "name": "python",
   "nbconvert_exporter": "python",
   "pygments_lexer": "ipython3",
   "version": "3.10.7"
  }
 },
 "nbformat": 4,
 "nbformat_minor": 5
}
