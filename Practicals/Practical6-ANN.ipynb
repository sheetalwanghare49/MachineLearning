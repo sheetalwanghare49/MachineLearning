{
 "cells": [
  {
   "cell_type": "code",
   "execution_count": 1,
   "id": "4d7b5ec1",
   "metadata": {},
   "outputs": [],
   "source": [
    "#ANN"
   ]
  },
  {
   "cell_type": "code",
   "execution_count": 2,
   "id": "655b2e42",
   "metadata": {},
   "outputs": [],
   "source": [
    "import pandas as pd\n",
    "import numpy as np\n",
    "from matplotlib import pyplot as plt\n",
    "import seaborn as sns"
   ]
  },
  {
   "cell_type": "code",
   "execution_count": 3,
   "id": "7013884b",
   "metadata": {},
   "outputs": [],
   "source": [
    "data = pd.read_csv('diabetes2.csv')"
   ]
  },
  {
   "cell_type": "code",
   "execution_count": 4,
   "id": "2eb3ce69",
   "metadata": {},
   "outputs": [
    {
     "data": {
      "text/html": [
       "<div>\n",
       "<style scoped>\n",
       "    .dataframe tbody tr th:only-of-type {\n",
       "        vertical-align: middle;\n",
       "    }\n",
       "\n",
       "    .dataframe tbody tr th {\n",
       "        vertical-align: top;\n",
       "    }\n",
       "\n",
       "    .dataframe thead th {\n",
       "        text-align: right;\n",
       "    }\n",
       "</style>\n",
       "<table border=\"1\" class=\"dataframe\">\n",
       "  <thead>\n",
       "    <tr style=\"text-align: right;\">\n",
       "      <th></th>\n",
       "      <th>Pregnancies</th>\n",
       "      <th>Glucose</th>\n",
       "      <th>BloodPressure</th>\n",
       "      <th>SkinThickness</th>\n",
       "      <th>Insulin</th>\n",
       "      <th>BMI</th>\n",
       "      <th>DiabetesPedigreeFunction</th>\n",
       "      <th>Age</th>\n",
       "      <th>Outcome</th>\n",
       "    </tr>\n",
       "  </thead>\n",
       "  <tbody>\n",
       "    <tr>\n",
       "      <th>0</th>\n",
       "      <td>6</td>\n",
       "      <td>148</td>\n",
       "      <td>72</td>\n",
       "      <td>35</td>\n",
       "      <td>0</td>\n",
       "      <td>33.6</td>\n",
       "      <td>0.627</td>\n",
       "      <td>50</td>\n",
       "      <td>1</td>\n",
       "    </tr>\n",
       "    <tr>\n",
       "      <th>1</th>\n",
       "      <td>1</td>\n",
       "      <td>85</td>\n",
       "      <td>66</td>\n",
       "      <td>29</td>\n",
       "      <td>0</td>\n",
       "      <td>26.6</td>\n",
       "      <td>0.351</td>\n",
       "      <td>31</td>\n",
       "      <td>0</td>\n",
       "    </tr>\n",
       "    <tr>\n",
       "      <th>2</th>\n",
       "      <td>8</td>\n",
       "      <td>183</td>\n",
       "      <td>64</td>\n",
       "      <td>0</td>\n",
       "      <td>0</td>\n",
       "      <td>23.3</td>\n",
       "      <td>0.672</td>\n",
       "      <td>32</td>\n",
       "      <td>1</td>\n",
       "    </tr>\n",
       "    <tr>\n",
       "      <th>3</th>\n",
       "      <td>1</td>\n",
       "      <td>89</td>\n",
       "      <td>66</td>\n",
       "      <td>23</td>\n",
       "      <td>94</td>\n",
       "      <td>28.1</td>\n",
       "      <td>0.167</td>\n",
       "      <td>21</td>\n",
       "      <td>0</td>\n",
       "    </tr>\n",
       "    <tr>\n",
       "      <th>4</th>\n",
       "      <td>0</td>\n",
       "      <td>137</td>\n",
       "      <td>40</td>\n",
       "      <td>35</td>\n",
       "      <td>168</td>\n",
       "      <td>43.1</td>\n",
       "      <td>2.288</td>\n",
       "      <td>33</td>\n",
       "      <td>1</td>\n",
       "    </tr>\n",
       "  </tbody>\n",
       "</table>\n",
       "</div>"
      ],
      "text/plain": [
       "   Pregnancies  Glucose  BloodPressure  SkinThickness  Insulin   BMI  \\\n",
       "0            6      148             72             35        0  33.6   \n",
       "1            1       85             66             29        0  26.6   \n",
       "2            8      183             64              0        0  23.3   \n",
       "3            1       89             66             23       94  28.1   \n",
       "4            0      137             40             35      168  43.1   \n",
       "\n",
       "   DiabetesPedigreeFunction  Age  Outcome  \n",
       "0                     0.627   50        1  \n",
       "1                     0.351   31        0  \n",
       "2                     0.672   32        1  \n",
       "3                     0.167   21        0  \n",
       "4                     2.288   33        1  "
      ]
     },
     "execution_count": 4,
     "metadata": {},
     "output_type": "execute_result"
    }
   ],
   "source": [
    "data.head()"
   ]
  },
  {
   "cell_type": "code",
   "execution_count": 5,
   "id": "8405ee4c",
   "metadata": {},
   "outputs": [
    {
     "data": {
      "text/plain": [
       "(768, 9)"
      ]
     },
     "execution_count": 5,
     "metadata": {},
     "output_type": "execute_result"
    }
   ],
   "source": [
    "data.shape"
   ]
  },
  {
   "cell_type": "code",
   "execution_count": 6,
   "id": "eb615a9f",
   "metadata": {},
   "outputs": [
    {
     "data": {
      "text/plain": [
       "Index(['Pregnancies', 'Glucose', 'BloodPressure', 'SkinThickness', 'Insulin',\n",
       "       'BMI', 'DiabetesPedigreeFunction', 'Age', 'Outcome'],\n",
       "      dtype='object')"
      ]
     },
     "execution_count": 6,
     "metadata": {},
     "output_type": "execute_result"
    }
   ],
   "source": [
    "data.columns"
   ]
  },
  {
   "cell_type": "code",
   "execution_count": 7,
   "id": "09abe56f",
   "metadata": {},
   "outputs": [],
   "source": [
    "x = data.iloc[:,:-1].values"
   ]
  },
  {
   "cell_type": "code",
   "execution_count": 8,
   "id": "40f87f26",
   "metadata": {},
   "outputs": [],
   "source": [
    "y = data.Outcome"
   ]
  },
  {
   "cell_type": "code",
   "execution_count": 9,
   "id": "0c791b20",
   "metadata": {},
   "outputs": [
    {
     "data": {
      "text/plain": [
       "array([[  6.   , 148.   ,  72.   , ...,  33.6  ,   0.627,  50.   ],\n",
       "       [  1.   ,  85.   ,  66.   , ...,  26.6  ,   0.351,  31.   ],\n",
       "       [  8.   , 183.   ,  64.   , ...,  23.3  ,   0.672,  32.   ],\n",
       "       ...,\n",
       "       [  5.   , 121.   ,  72.   , ...,  26.2  ,   0.245,  30.   ],\n",
       "       [  1.   , 126.   ,  60.   , ...,  30.1  ,   0.349,  47.   ],\n",
       "       [  1.   ,  93.   ,  70.   , ...,  30.4  ,   0.315,  23.   ]])"
      ]
     },
     "execution_count": 9,
     "metadata": {},
     "output_type": "execute_result"
    }
   ],
   "source": [
    "x"
   ]
  },
  {
   "cell_type": "code",
   "execution_count": 10,
   "id": "0c4bec3a",
   "metadata": {},
   "outputs": [
    {
     "data": {
      "text/plain": [
       "0      1\n",
       "1      0\n",
       "2      1\n",
       "3      0\n",
       "4      1\n",
       "      ..\n",
       "763    0\n",
       "764    0\n",
       "765    0\n",
       "766    1\n",
       "767    0\n",
       "Name: Outcome, Length: 768, dtype: int64"
      ]
     },
     "execution_count": 10,
     "metadata": {},
     "output_type": "execute_result"
    }
   ],
   "source": [
    "y"
   ]
  },
  {
   "cell_type": "code",
   "execution_count": 11,
   "id": "20a3c624",
   "metadata": {},
   "outputs": [],
   "source": [
    "import sklearn\n",
    "from sklearn.model_selection import train_test_split"
   ]
  },
  {
   "cell_type": "code",
   "execution_count": 12,
   "id": "570b6870",
   "metadata": {},
   "outputs": [],
   "source": [
    "x_train,x_test,y_train,y_test = train_test_split(x,y,train_size=0.70,random_state =0)"
   ]
  },
  {
   "cell_type": "code",
   "execution_count": 13,
   "id": "1b576225",
   "metadata": {},
   "outputs": [
    {
     "data": {
      "text/plain": [
       "array([[0.00e+00, 1.51e+02, 9.00e+01, ..., 4.21e+01, 3.71e-01, 2.10e+01],\n",
       "       [1.00e+00, 8.30e+01, 6.80e+01, ..., 1.82e+01, 6.24e-01, 2.70e+01],\n",
       "       [2.00e+00, 1.22e+02, 7.00e+01, ..., 3.68e+01, 3.40e-01, 2.70e+01],\n",
       "       ...,\n",
       "       [4.00e+00, 9.40e+01, 6.50e+01, ..., 2.47e+01, 1.48e-01, 2.10e+01],\n",
       "       [1.10e+01, 8.50e+01, 7.40e+01, ..., 3.01e+01, 3.00e-01, 3.50e+01],\n",
       "       [5.00e+00, 1.36e+02, 8.20e+01, ..., 0.00e+00, 6.40e-01, 6.90e+01]])"
      ]
     },
     "execution_count": 13,
     "metadata": {},
     "output_type": "execute_result"
    }
   ],
   "source": [
    "x_train"
   ]
  },
  {
   "cell_type": "code",
   "execution_count": 14,
   "id": "9fee7f68",
   "metadata": {},
   "outputs": [
    {
     "data": {
      "text/plain": [
       "580    1\n",
       "418    0\n",
       "764    0\n",
       "363    1\n",
       "757    1\n",
       "      ..\n",
       "763    0\n",
       "192    1\n",
       "629    0\n",
       "559    0\n",
       "684    0\n",
       "Name: Outcome, Length: 537, dtype: int64"
      ]
     },
     "execution_count": 14,
     "metadata": {},
     "output_type": "execute_result"
    }
   ],
   "source": [
    "y_train"
   ]
  },
  {
   "cell_type": "code",
   "execution_count": null,
   "id": "59428aa2",
   "metadata": {},
   "outputs": [],
   "source": []
  },
  {
   "cell_type": "code",
   "execution_count": 15,
   "id": "3676a90f",
   "metadata": {},
   "outputs": [],
   "source": [
    "from keras.models import Sequential\n",
    "model = Sequential()"
   ]
  },
  {
   "cell_type": "code",
   "execution_count": 16,
   "id": "fe242d56",
   "metadata": {},
   "outputs": [],
   "source": [
    "from keras.layers import Dense"
   ]
  },
  {
   "cell_type": "code",
   "execution_count": 17,
   "id": "1b227d39",
   "metadata": {},
   "outputs": [],
   "source": [
    "# add first hidden layer\n",
    "model.add(Dense(32,activation='relu',input_dim=8))"
   ]
  },
  {
   "cell_type": "code",
   "execution_count": 18,
   "id": "a7197306",
   "metadata": {},
   "outputs": [],
   "source": [
    "# Second hidden layer\n",
    "model.add(Dense(16,activation='relu'))"
   ]
  },
  {
   "cell_type": "code",
   "execution_count": 19,
   "id": "35b0d48d",
   "metadata": {},
   "outputs": [],
   "source": [
    "# Output layer\n",
    "model.add(Dense(1,activation='sigmoid'))"
   ]
  },
  {
   "cell_type": "code",
   "execution_count": 20,
   "id": "478fce55",
   "metadata": {},
   "outputs": [],
   "source": [
    "# Compile the model\n",
    "model.compile(optimizer='adam', loss='binary_crossentropy',metrics=['accuracy'])"
   ]
  },
  {
   "cell_type": "code",
   "execution_count": 21,
   "id": "ce4b73ca",
   "metadata": {},
   "outputs": [
    {
     "name": "stdout",
     "output_type": "stream",
     "text": [
      "Epoch 1/200\n",
      "17/17 [==============================] - 2s 5ms/step - loss: 6.2819 - accuracy: 0.5047\n",
      "Epoch 2/200\n",
      "17/17 [==============================] - 0s 3ms/step - loss: 2.6281 - accuracy: 0.5587\n",
      "Epoch 3/200\n",
      "17/17 [==============================] - 0s 4ms/step - loss: 1.2584 - accuracy: 0.4786\n",
      "Epoch 4/200\n",
      "17/17 [==============================] - 0s 4ms/step - loss: 0.9467 - accuracy: 0.5810\n",
      "Epoch 5/200\n",
      "17/17 [==============================] - 0s 4ms/step - loss: 0.8166 - accuracy: 0.6089\n",
      "Epoch 6/200\n",
      "17/17 [==============================] - 0s 4ms/step - loss: 0.7197 - accuracy: 0.6220\n",
      "Epoch 7/200\n",
      "17/17 [==============================] - 0s 4ms/step - loss: 0.7101 - accuracy: 0.6648\n",
      "Epoch 8/200\n",
      "17/17 [==============================] - 0s 4ms/step - loss: 0.7295 - accuracy: 0.6294\n",
      "Epoch 9/200\n",
      "17/17 [==============================] - 0s 3ms/step - loss: 0.6737 - accuracy: 0.6797\n",
      "Epoch 10/200\n",
      "17/17 [==============================] - 0s 3ms/step - loss: 0.6614 - accuracy: 0.6685\n",
      "Epoch 11/200\n",
      "17/17 [==============================] - 0s 4ms/step - loss: 0.6030 - accuracy: 0.7020\n",
      "Epoch 12/200\n",
      "17/17 [==============================] - 0s 3ms/step - loss: 0.6316 - accuracy: 0.6853\n",
      "Epoch 13/200\n",
      "17/17 [==============================] - 0s 3ms/step - loss: 0.6026 - accuracy: 0.6834\n",
      "Epoch 14/200\n",
      "17/17 [==============================] - 0s 3ms/step - loss: 0.6015 - accuracy: 0.7002\n",
      "Epoch 15/200\n",
      "17/17 [==============================] - 0s 4ms/step - loss: 0.5863 - accuracy: 0.7020\n",
      "Epoch 16/200\n",
      "17/17 [==============================] - 0s 4ms/step - loss: 0.5876 - accuracy: 0.7039\n",
      "Epoch 17/200\n",
      "17/17 [==============================] - 0s 4ms/step - loss: 0.5883 - accuracy: 0.7039\n",
      "Epoch 18/200\n",
      "17/17 [==============================] - 0s 4ms/step - loss: 0.5762 - accuracy: 0.7263\n",
      "Epoch 19/200\n",
      "17/17 [==============================] - 0s 3ms/step - loss: 0.6461 - accuracy: 0.6741\n",
      "Epoch 20/200\n",
      "17/17 [==============================] - 0s 4ms/step - loss: 0.6173 - accuracy: 0.7058\n",
      "Epoch 21/200\n",
      "17/17 [==============================] - 0s 4ms/step - loss: 0.6053 - accuracy: 0.7132\n",
      "Epoch 22/200\n",
      "17/17 [==============================] - 0s 4ms/step - loss: 0.5898 - accuracy: 0.6983\n",
      "Epoch 23/200\n",
      "17/17 [==============================] - 0s 3ms/step - loss: 0.5910 - accuracy: 0.7095\n",
      "Epoch 24/200\n",
      "17/17 [==============================] - 0s 4ms/step - loss: 0.5763 - accuracy: 0.6983\n",
      "Epoch 25/200\n",
      "17/17 [==============================] - 0s 4ms/step - loss: 0.5773 - accuracy: 0.7039\n",
      "Epoch 26/200\n",
      "17/17 [==============================] - 0s 3ms/step - loss: 0.5946 - accuracy: 0.7281\n",
      "Epoch 27/200\n",
      "17/17 [==============================] - 0s 3ms/step - loss: 0.5898 - accuracy: 0.7207\n",
      "Epoch 28/200\n",
      "17/17 [==============================] - 0s 4ms/step - loss: 0.5642 - accuracy: 0.7114\n",
      "Epoch 29/200\n",
      "17/17 [==============================] - 0s 4ms/step - loss: 0.5670 - accuracy: 0.7337\n",
      "Epoch 30/200\n",
      "17/17 [==============================] - 0s 4ms/step - loss: 0.5629 - accuracy: 0.7188\n",
      "Epoch 31/200\n",
      "17/17 [==============================] - 0s 4ms/step - loss: 0.5768 - accuracy: 0.7207\n",
      "Epoch 32/200\n",
      "17/17 [==============================] - 0s 5ms/step - loss: 0.5750 - accuracy: 0.7076\n",
      "Epoch 33/200\n",
      "17/17 [==============================] - 0s 4ms/step - loss: 0.5653 - accuracy: 0.7095\n",
      "Epoch 34/200\n",
      "17/17 [==============================] - 0s 3ms/step - loss: 0.6200 - accuracy: 0.6797\n",
      "Epoch 35/200\n",
      "17/17 [==============================] - 0s 3ms/step - loss: 0.5914 - accuracy: 0.7188\n",
      "Epoch 36/200\n",
      "17/17 [==============================] - 0s 3ms/step - loss: 0.5797 - accuracy: 0.6983\n",
      "Epoch 37/200\n",
      "17/17 [==============================] - 0s 4ms/step - loss: 0.5723 - accuracy: 0.7188\n",
      "Epoch 38/200\n",
      "17/17 [==============================] - 0s 4ms/step - loss: 0.5658 - accuracy: 0.7207\n",
      "Epoch 39/200\n",
      "17/17 [==============================] - 0s 4ms/step - loss: 0.5465 - accuracy: 0.7337\n",
      "Epoch 40/200\n",
      "17/17 [==============================] - 0s 5ms/step - loss: 0.5429 - accuracy: 0.7300\n",
      "Epoch 41/200\n",
      "17/17 [==============================] - 0s 4ms/step - loss: 0.5480 - accuracy: 0.7225\n",
      "Epoch 42/200\n",
      "17/17 [==============================] - 0s 3ms/step - loss: 0.5527 - accuracy: 0.7281\n",
      "Epoch 43/200\n",
      "17/17 [==============================] - 0s 3ms/step - loss: 0.5571 - accuracy: 0.7151\n",
      "Epoch 44/200\n",
      "17/17 [==============================] - 0s 4ms/step - loss: 0.5537 - accuracy: 0.7132\n",
      "Epoch 45/200\n",
      "17/17 [==============================] - 0s 4ms/step - loss: 0.5536 - accuracy: 0.7337\n",
      "Epoch 46/200\n",
      "17/17 [==============================] - 0s 4ms/step - loss: 0.5350 - accuracy: 0.7430\n",
      "Epoch 47/200\n",
      "17/17 [==============================] - 0s 4ms/step - loss: 0.5286 - accuracy: 0.7523\n",
      "Epoch 48/200\n",
      "17/17 [==============================] - 0s 4ms/step - loss: 0.5504 - accuracy: 0.7300\n",
      "Epoch 49/200\n",
      "17/17 [==============================] - 0s 3ms/step - loss: 0.5369 - accuracy: 0.7430\n",
      "Epoch 50/200\n",
      "17/17 [==============================] - 0s 4ms/step - loss: 0.5490 - accuracy: 0.7318\n",
      "Epoch 51/200\n",
      "17/17 [==============================] - 0s 4ms/step - loss: 0.5841 - accuracy: 0.7151\n",
      "Epoch 52/200\n",
      "17/17 [==============================] - 0s 3ms/step - loss: 0.5266 - accuracy: 0.7561\n",
      "Epoch 53/200\n",
      "17/17 [==============================] - 0s 4ms/step - loss: 0.5331 - accuracy: 0.7393\n",
      "Epoch 54/200\n",
      "17/17 [==============================] - 0s 5ms/step - loss: 0.5491 - accuracy: 0.7561\n",
      "Epoch 55/200\n",
      "17/17 [==============================] - 0s 4ms/step - loss: 0.5411 - accuracy: 0.7244\n",
      "Epoch 56/200\n",
      "17/17 [==============================] - 0s 3ms/step - loss: 0.5430 - accuracy: 0.7430\n",
      "Epoch 57/200\n",
      "17/17 [==============================] - 0s 3ms/step - loss: 0.5593 - accuracy: 0.7300\n",
      "Epoch 58/200\n",
      "17/17 [==============================] - 0s 3ms/step - loss: 0.5252 - accuracy: 0.7449\n",
      "Epoch 59/200\n",
      "17/17 [==============================] - 0s 3ms/step - loss: 0.5505 - accuracy: 0.7505\n",
      "Epoch 60/200\n",
      "17/17 [==============================] - 0s 3ms/step - loss: 0.5947 - accuracy: 0.7188\n",
      "Epoch 61/200\n",
      "17/17 [==============================] - 0s 3ms/step - loss: 0.5303 - accuracy: 0.7263\n",
      "Epoch 62/200\n",
      "17/17 [==============================] - 0s 3ms/step - loss: 0.5443 - accuracy: 0.7449\n",
      "Epoch 63/200\n",
      "17/17 [==============================] - 0s 4ms/step - loss: 0.5282 - accuracy: 0.7523\n",
      "Epoch 64/200\n",
      "17/17 [==============================] - 0s 5ms/step - loss: 0.5169 - accuracy: 0.7337\n",
      "Epoch 65/200\n",
      "17/17 [==============================] - 0s 5ms/step - loss: 0.5159 - accuracy: 0.7486\n",
      "Epoch 66/200\n",
      "17/17 [==============================] - 0s 4ms/step - loss: 0.5311 - accuracy: 0.7393\n",
      "Epoch 67/200\n",
      "17/17 [==============================] - 0s 3ms/step - loss: 0.5612 - accuracy: 0.7244\n",
      "Epoch 68/200\n",
      "17/17 [==============================] - 0s 3ms/step - loss: 0.5558 - accuracy: 0.7542\n",
      "Epoch 69/200\n",
      "17/17 [==============================] - 0s 3ms/step - loss: 0.5263 - accuracy: 0.7225\n",
      "Epoch 70/200\n",
      "17/17 [==============================] - 0s 4ms/step - loss: 0.5173 - accuracy: 0.7467\n",
      "Epoch 71/200\n",
      "17/17 [==============================] - 0s 4ms/step - loss: 0.5420 - accuracy: 0.7542\n",
      "Epoch 72/200\n",
      "17/17 [==============================] - 0s 4ms/step - loss: 0.5160 - accuracy: 0.7579\n",
      "Epoch 73/200\n",
      "17/17 [==============================] - 0s 4ms/step - loss: 0.4997 - accuracy: 0.7654\n",
      "Epoch 74/200\n",
      "17/17 [==============================] - 0s 3ms/step - loss: 0.5033 - accuracy: 0.7728\n",
      "Epoch 75/200\n",
      "17/17 [==============================] - 0s 3ms/step - loss: 0.5362 - accuracy: 0.7579\n",
      "Epoch 76/200\n",
      "17/17 [==============================] - 0s 3ms/step - loss: 0.5279 - accuracy: 0.7412\n",
      "Epoch 77/200\n",
      "17/17 [==============================] - 0s 3ms/step - loss: 0.5122 - accuracy: 0.7579\n",
      "Epoch 78/200\n",
      "17/17 [==============================] - 0s 3ms/step - loss: 0.5374 - accuracy: 0.7486\n",
      "Epoch 79/200\n",
      "17/17 [==============================] - 0s 4ms/step - loss: 0.5187 - accuracy: 0.7542\n",
      "Epoch 80/200\n",
      "17/17 [==============================] - 0s 4ms/step - loss: 0.5296 - accuracy: 0.7356\n",
      "Epoch 81/200\n",
      "17/17 [==============================] - 0s 3ms/step - loss: 0.5212 - accuracy: 0.7561\n",
      "Epoch 82/200\n",
      "17/17 [==============================] - 0s 3ms/step - loss: 0.5089 - accuracy: 0.7616\n",
      "Epoch 83/200\n"
     ]
    },
    {
     "name": "stdout",
     "output_type": "stream",
     "text": [
      "17/17 [==============================] - 0s 4ms/step - loss: 0.5198 - accuracy: 0.7616\n",
      "Epoch 84/200\n",
      "17/17 [==============================] - 0s 3ms/step - loss: 0.5334 - accuracy: 0.7300\n",
      "Epoch 85/200\n",
      "17/17 [==============================] - 0s 3ms/step - loss: 0.5112 - accuracy: 0.7449\n",
      "Epoch 86/200\n",
      "17/17 [==============================] - 0s 3ms/step - loss: 0.5099 - accuracy: 0.7598\n",
      "Epoch 87/200\n",
      "17/17 [==============================] - 0s 4ms/step - loss: 0.5006 - accuracy: 0.7467\n",
      "Epoch 88/200\n",
      "17/17 [==============================] - 0s 4ms/step - loss: 0.5074 - accuracy: 0.7505\n",
      "Epoch 89/200\n",
      "17/17 [==============================] - 0s 3ms/step - loss: 0.5529 - accuracy: 0.7598\n",
      "Epoch 90/200\n",
      "17/17 [==============================] - 0s 3ms/step - loss: 0.5457 - accuracy: 0.7318\n",
      "Epoch 91/200\n",
      "17/17 [==============================] - 0s 4ms/step - loss: 0.4981 - accuracy: 0.7654\n",
      "Epoch 92/200\n",
      "17/17 [==============================] - 0s 4ms/step - loss: 0.5134 - accuracy: 0.7579\n",
      "Epoch 93/200\n",
      "17/17 [==============================] - 0s 4ms/step - loss: 0.5208 - accuracy: 0.7579\n",
      "Epoch 94/200\n",
      "17/17 [==============================] - 0s 4ms/step - loss: 0.5114 - accuracy: 0.7467\n",
      "Epoch 95/200\n",
      "17/17 [==============================] - 0s 3ms/step - loss: 0.5109 - accuracy: 0.7542\n",
      "Epoch 96/200\n",
      "17/17 [==============================] - 0s 3ms/step - loss: 0.5088 - accuracy: 0.7672\n",
      "Epoch 97/200\n",
      "17/17 [==============================] - 0s 3ms/step - loss: 0.4958 - accuracy: 0.7672\n",
      "Epoch 98/200\n",
      "17/17 [==============================] - 0s 4ms/step - loss: 0.5149 - accuracy: 0.7505\n",
      "Epoch 99/200\n",
      "17/17 [==============================] - 0s 4ms/step - loss: 0.5268 - accuracy: 0.7393\n",
      "Epoch 100/200\n",
      "17/17 [==============================] - 0s 3ms/step - loss: 0.4813 - accuracy: 0.7784\n",
      "Epoch 101/200\n",
      "17/17 [==============================] - 0s 4ms/step - loss: 0.5045 - accuracy: 0.7616\n",
      "Epoch 102/200\n",
      "17/17 [==============================] - 0s 5ms/step - loss: 0.5121 - accuracy: 0.7412\n",
      "Epoch 103/200\n",
      "17/17 [==============================] - 0s 4ms/step - loss: 0.5401 - accuracy: 0.7356\n",
      "Epoch 104/200\n",
      "17/17 [==============================] - 0s 4ms/step - loss: 0.5175 - accuracy: 0.7505\n",
      "Epoch 105/200\n",
      "17/17 [==============================] - 0s 3ms/step - loss: 0.5118 - accuracy: 0.7561\n",
      "Epoch 106/200\n",
      "17/17 [==============================] - 0s 3ms/step - loss: 0.4833 - accuracy: 0.7691\n",
      "Epoch 107/200\n",
      "17/17 [==============================] - 0s 3ms/step - loss: 0.5047 - accuracy: 0.7467\n",
      "Epoch 108/200\n",
      "17/17 [==============================] - 0s 4ms/step - loss: 0.5222 - accuracy: 0.7561\n",
      "Epoch 109/200\n",
      "17/17 [==============================] - 0s 3ms/step - loss: 0.5580 - accuracy: 0.7151\n",
      "Epoch 110/200\n",
      "17/17 [==============================] - 0s 3ms/step - loss: 0.5296 - accuracy: 0.7486\n",
      "Epoch 111/200\n",
      "17/17 [==============================] - 0s 4ms/step - loss: 0.4929 - accuracy: 0.7709\n",
      "Epoch 112/200\n",
      "17/17 [==============================] - 0s 3ms/step - loss: 0.4923 - accuracy: 0.7616\n",
      "Epoch 113/200\n",
      "17/17 [==============================] - 0s 3ms/step - loss: 0.4785 - accuracy: 0.7877\n",
      "Epoch 114/200\n",
      "17/17 [==============================] - 0s 4ms/step - loss: 0.4902 - accuracy: 0.7728\n",
      "Epoch 115/200\n",
      "17/17 [==============================] - 0s 3ms/step - loss: 0.4971 - accuracy: 0.7561\n",
      "Epoch 116/200\n",
      "17/17 [==============================] - 0s 3ms/step - loss: 0.5091 - accuracy: 0.7691\n",
      "Epoch 117/200\n",
      "17/17 [==============================] - 0s 3ms/step - loss: 0.4930 - accuracy: 0.7747\n",
      "Epoch 118/200\n",
      "17/17 [==============================] - 0s 4ms/step - loss: 0.5023 - accuracy: 0.7579\n",
      "Epoch 119/200\n",
      "17/17 [==============================] - 0s 4ms/step - loss: 0.4946 - accuracy: 0.7765\n",
      "Epoch 120/200\n",
      "17/17 [==============================] - 0s 3ms/step - loss: 0.4849 - accuracy: 0.7784\n",
      "Epoch 121/200\n",
      "17/17 [==============================] - 0s 4ms/step - loss: 0.5475 - accuracy: 0.7505\n",
      "Epoch 122/200\n",
      "17/17 [==============================] - 0s 3ms/step - loss: 0.5208 - accuracy: 0.7393\n",
      "Epoch 123/200\n",
      "17/17 [==============================] - 0s 4ms/step - loss: 0.5187 - accuracy: 0.7374\n",
      "Epoch 124/200\n",
      "17/17 [==============================] - 0s 4ms/step - loss: 0.4751 - accuracy: 0.7728\n",
      "Epoch 125/200\n",
      "17/17 [==============================] - 0s 3ms/step - loss: 0.4730 - accuracy: 0.7821\n",
      "Epoch 126/200\n",
      "17/17 [==============================] - 0s 3ms/step - loss: 0.4831 - accuracy: 0.7542\n",
      "Epoch 127/200\n",
      "17/17 [==============================] - 0s 3ms/step - loss: 0.4820 - accuracy: 0.7709\n",
      "Epoch 128/200\n",
      "17/17 [==============================] - 0s 3ms/step - loss: 0.4730 - accuracy: 0.7784\n",
      "Epoch 129/200\n",
      "17/17 [==============================] - 0s 4ms/step - loss: 0.4922 - accuracy: 0.7858\n",
      "Epoch 130/200\n",
      "17/17 [==============================] - 0s 3ms/step - loss: 0.4745 - accuracy: 0.7803\n",
      "Epoch 131/200\n",
      "17/17 [==============================] - 0s 3ms/step - loss: 0.4833 - accuracy: 0.7858\n",
      "Epoch 132/200\n",
      "17/17 [==============================] - 0s 3ms/step - loss: 0.5078 - accuracy: 0.7691\n",
      "Epoch 133/200\n",
      "17/17 [==============================] - 0s 4ms/step - loss: 0.5074 - accuracy: 0.7635\n",
      "Epoch 134/200\n",
      "17/17 [==============================] - 0s 4ms/step - loss: 0.4918 - accuracy: 0.7728\n",
      "Epoch 135/200\n",
      "17/17 [==============================] - 0s 3ms/step - loss: 0.4962 - accuracy: 0.7709\n",
      "Epoch 136/200\n",
      "17/17 [==============================] - 0s 4ms/step - loss: 0.5015 - accuracy: 0.7728\n",
      "Epoch 137/200\n",
      "17/17 [==============================] - 0s 4ms/step - loss: 0.4898 - accuracy: 0.7691\n",
      "Epoch 138/200\n",
      "17/17 [==============================] - 0s 3ms/step - loss: 0.5366 - accuracy: 0.7486\n",
      "Epoch 139/200\n",
      "17/17 [==============================] - 0s 4ms/step - loss: 0.5764 - accuracy: 0.7058\n",
      "Epoch 140/200\n",
      "17/17 [==============================] - 0s 4ms/step - loss: 0.5020 - accuracy: 0.7672\n",
      "Epoch 141/200\n",
      "17/17 [==============================] - 0s 4ms/step - loss: 0.5019 - accuracy: 0.7654\n",
      "Epoch 142/200\n",
      "17/17 [==============================] - 0s 3ms/step - loss: 0.5001 - accuracy: 0.7598\n",
      "Epoch 143/200\n",
      "17/17 [==============================] - 0s 4ms/step - loss: 0.5051 - accuracy: 0.7505\n",
      "Epoch 144/200\n",
      "17/17 [==============================] - 0s 4ms/step - loss: 0.4996 - accuracy: 0.7654\n",
      "Epoch 145/200\n",
      "17/17 [==============================] - 0s 3ms/step - loss: 0.4832 - accuracy: 0.7635\n",
      "Epoch 146/200\n",
      "17/17 [==============================] - 0s 3ms/step - loss: 0.4854 - accuracy: 0.7709\n",
      "Epoch 147/200\n",
      "17/17 [==============================] - 0s 3ms/step - loss: 0.4881 - accuracy: 0.7709\n",
      "Epoch 148/200\n",
      "17/17 [==============================] - 0s 4ms/step - loss: 0.4735 - accuracy: 0.7672\n",
      "Epoch 149/200\n",
      "17/17 [==============================] - 0s 4ms/step - loss: 0.4730 - accuracy: 0.7709\n",
      "Epoch 150/200\n",
      "17/17 [==============================] - 0s 3ms/step - loss: 0.4689 - accuracy: 0.7654\n",
      "Epoch 151/200\n",
      "17/17 [==============================] - 0s 3ms/step - loss: 0.4905 - accuracy: 0.7747\n",
      "Epoch 152/200\n",
      "17/17 [==============================] - 0s 3ms/step - loss: 0.4740 - accuracy: 0.7803\n",
      "Epoch 153/200\n",
      "17/17 [==============================] - 0s 3ms/step - loss: 0.4900 - accuracy: 0.7486\n",
      "Epoch 154/200\n",
      "17/17 [==============================] - 0s 3ms/step - loss: 0.4971 - accuracy: 0.7616\n",
      "Epoch 155/200\n",
      "17/17 [==============================] - 0s 4ms/step - loss: 0.4818 - accuracy: 0.7728\n",
      "Epoch 156/200\n",
      "17/17 [==============================] - 0s 4ms/step - loss: 0.5143 - accuracy: 0.7523\n",
      "Epoch 157/200\n",
      "17/17 [==============================] - 0s 4ms/step - loss: 0.5045 - accuracy: 0.7561\n",
      "Epoch 158/200\n",
      "17/17 [==============================] - 0s 4ms/step - loss: 0.5418 - accuracy: 0.7523\n",
      "Epoch 159/200\n",
      "17/17 [==============================] - 0s 4ms/step - loss: 0.6059 - accuracy: 0.6965\n",
      "Epoch 160/200\n",
      "17/17 [==============================] - 0s 3ms/step - loss: 0.5837 - accuracy: 0.7114\n",
      "Epoch 161/200\n",
      "17/17 [==============================] - 0s 3ms/step - loss: 0.4812 - accuracy: 0.7654\n",
      "Epoch 162/200\n",
      "17/17 [==============================] - 0s 3ms/step - loss: 0.4735 - accuracy: 0.7635\n",
      "Epoch 163/200\n",
      "17/17 [==============================] - 0s 3ms/step - loss: 0.4700 - accuracy: 0.7952\n",
      "Epoch 164/200\n",
      "17/17 [==============================] - 0s 4ms/step - loss: 0.4754 - accuracy: 0.7747\n",
      "Epoch 165/200\n",
      "17/17 [==============================] - 0s 4ms/step - loss: 0.4879 - accuracy: 0.7523\n",
      "Epoch 166/200\n",
      "17/17 [==============================] - 0s 4ms/step - loss: 0.4910 - accuracy: 0.7709\n",
      "Epoch 167/200\n",
      "17/17 [==============================] - 0s 3ms/step - loss: 0.4700 - accuracy: 0.7728\n",
      "Epoch 168/200\n",
      "17/17 [==============================] - 0s 4ms/step - loss: 0.4587 - accuracy: 0.8063\n",
      "Epoch 169/200\n",
      "17/17 [==============================] - 0s 4ms/step - loss: 0.4817 - accuracy: 0.7709\n",
      "Epoch 170/200\n",
      "17/17 [==============================] - 0s 3ms/step - loss: 0.5235 - accuracy: 0.7412\n",
      "Epoch 171/200\n",
      "17/17 [==============================] - 0s 4ms/step - loss: 0.5073 - accuracy: 0.7598\n",
      "Epoch 172/200\n",
      "17/17 [==============================] - 0s 3ms/step - loss: 0.4718 - accuracy: 0.7635\n",
      "Epoch 173/200\n",
      "17/17 [==============================] - 0s 4ms/step - loss: 0.4702 - accuracy: 0.7747\n",
      "Epoch 174/200\n",
      "17/17 [==============================] - 0s 4ms/step - loss: 0.4662 - accuracy: 0.7709\n",
      "Epoch 175/200\n",
      "17/17 [==============================] - 0s 4ms/step - loss: 0.4701 - accuracy: 0.7784\n",
      "Epoch 176/200\n",
      "17/17 [==============================] - 0s 4ms/step - loss: 0.4662 - accuracy: 0.7821\n",
      "Epoch 177/200\n",
      "17/17 [==============================] - 0s 4ms/step - loss: 0.4708 - accuracy: 0.7691\n",
      "Epoch 178/200\n",
      "17/17 [==============================] - 0s 3ms/step - loss: 0.4823 - accuracy: 0.7691\n",
      "Epoch 179/200\n",
      "17/17 [==============================] - 0s 4ms/step - loss: 0.4581 - accuracy: 0.7970\n",
      "Epoch 180/200\n",
      "17/17 [==============================] - 0s 5ms/step - loss: 0.4554 - accuracy: 0.8007\n",
      "Epoch 181/200\n",
      "17/17 [==============================] - 0s 3ms/step - loss: 0.4527 - accuracy: 0.7784\n",
      "Epoch 182/200\n",
      "17/17 [==============================] - 0s 3ms/step - loss: 0.4570 - accuracy: 0.7877\n",
      "Epoch 183/200\n",
      "17/17 [==============================] - 0s 3ms/step - loss: 0.4708 - accuracy: 0.7803\n",
      "Epoch 184/200\n",
      "17/17 [==============================] - 0s 4ms/step - loss: 0.4650 - accuracy: 0.7672\n",
      "Epoch 185/200\n",
      "17/17 [==============================] - 0s 3ms/step - loss: 0.4783 - accuracy: 0.7728\n",
      "Epoch 186/200\n",
      "17/17 [==============================] - 0s 4ms/step - loss: 0.4588 - accuracy: 0.7747\n",
      "Epoch 187/200\n",
      "17/17 [==============================] - 0s 4ms/step - loss: 0.4555 - accuracy: 0.7821\n",
      "Epoch 188/200\n",
      "17/17 [==============================] - 0s 3ms/step - loss: 0.4734 - accuracy: 0.7784\n",
      "Epoch 189/200\n",
      "17/17 [==============================] - 0s 3ms/step - loss: 0.4806 - accuracy: 0.7635\n",
      "Epoch 190/200\n",
      "17/17 [==============================] - 0s 3ms/step - loss: 0.4582 - accuracy: 0.7952\n",
      "Epoch 191/200\n",
      "17/17 [==============================] - 0s 4ms/step - loss: 0.4537 - accuracy: 0.7914\n",
      "Epoch 192/200\n",
      "17/17 [==============================] - 0s 3ms/step - loss: 0.4518 - accuracy: 0.7896\n",
      "Epoch 193/200\n",
      "17/17 [==============================] - 0s 4ms/step - loss: 0.4613 - accuracy: 0.8007\n",
      "Epoch 194/200\n",
      "17/17 [==============================] - 0s 4ms/step - loss: 0.4806 - accuracy: 0.7561\n",
      "Epoch 195/200\n",
      "17/17 [==============================] - 0s 3ms/step - loss: 0.4636 - accuracy: 0.7747\n",
      "Epoch 196/200\n",
      "17/17 [==============================] - 0s 3ms/step - loss: 0.4792 - accuracy: 0.7709\n",
      "Epoch 197/200\n",
      "17/17 [==============================] - 0s 3ms/step - loss: 0.4745 - accuracy: 0.7765\n",
      "Epoch 198/200\n",
      "17/17 [==============================] - 0s 4ms/step - loss: 0.4494 - accuracy: 0.7970\n",
      "Epoch 199/200\n",
      "17/17 [==============================] - 0s 4ms/step - loss: 0.4544 - accuracy: 0.8007\n",
      "Epoch 200/200\n",
      "17/17 [==============================] - 0s 3ms/step - loss: 0.4763 - accuracy: 0.7654\n"
     ]
    },
    {
     "data": {
      "text/plain": [
       "<keras.callbacks.History at 0x1c21762d3f0>"
      ]
     },
     "execution_count": 21,
     "metadata": {},
     "output_type": "execute_result"
    }
   ],
   "source": [
    "model.fit(x_train,y_train,epochs=200)"
   ]
  },
  {
   "cell_type": "code",
   "execution_count": 22,
   "id": "ab90e671",
   "metadata": {},
   "outputs": [
    {
     "name": "stdout",
     "output_type": "stream",
     "text": [
      "17/17 [==============================] - 1s 3ms/step - loss: 0.4739 - accuracy: 0.7784\n"
     ]
    }
   ],
   "source": [
    "# Train and Test accuracy\n",
    "scores = model.evaluate(x_train,y_train)"
   ]
  },
  {
   "cell_type": "code",
   "execution_count": 23,
   "id": "e9dfdd88",
   "metadata": {},
   "outputs": [
    {
     "name": "stdout",
     "output_type": "stream",
     "text": [
      "Training Accuracy: 77.84%\n",
      "\n"
     ]
    }
   ],
   "source": [
    "print(\"Training Accuracy: %.2f%%\\n\" % (scores[1]*100))"
   ]
  },
  {
   "cell_type": "code",
   "execution_count": 24,
   "id": "6ea15d62",
   "metadata": {},
   "outputs": [
    {
     "name": "stdout",
     "output_type": "stream",
     "text": [
      "8/8 [==============================] - 0s 5ms/step - loss: 0.6768 - accuracy: 0.6580\n"
     ]
    }
   ],
   "source": [
    "scores = model.evaluate(x_test,y_test)"
   ]
  },
  {
   "cell_type": "code",
   "execution_count": 25,
   "id": "591a3a65",
   "metadata": {},
   "outputs": [
    {
     "name": "stdout",
     "output_type": "stream",
     "text": [
      "Testing Accuracy: 65.80%\n",
      "\n"
     ]
    }
   ],
   "source": [
    "print(\"Testing Accuracy: %.2f%%\\n\" % (scores[1]*100))"
   ]
  },
  {
   "cell_type": "code",
   "execution_count": null,
   "id": "a68d36d9",
   "metadata": {},
   "outputs": [],
   "source": []
  },
  {
   "cell_type": "code",
   "execution_count": 31,
   "id": "93bf6c00",
   "metadata": {},
   "outputs": [],
   "source": [
    "from sklearn.metrics import confusion_matrix"
   ]
  },
  {
   "cell_type": "code",
   "execution_count": 32,
   "id": "89dcb29c",
   "metadata": {},
   "outputs": [
    {
     "name": "stdout",
     "output_type": "stream",
     "text": [
      "8/8 [==============================] - 0s 5ms/step\n"
     ]
    }
   ],
   "source": [
    "y_test_pred=(model.predict(x_test)>0.5).astype(\"int32\")"
   ]
  },
  {
   "cell_type": "code",
   "execution_count": 33,
   "id": "92768317",
   "metadata": {},
   "outputs": [
    {
     "name": "stdout",
     "output_type": "stream",
     "text": [
      "[[100  57]\n",
      " [ 22  52]]\n"
     ]
    }
   ],
   "source": [
    "cm = confusion_matrix(y_test,y_test_pred)\n",
    "print(cm)"
   ]
  },
  {
   "cell_type": "code",
   "execution_count": 34,
   "id": "985474fc",
   "metadata": {},
   "outputs": [
    {
     "data": {
      "image/png": "[encoded data removed]",
      "text/plain": [
       "<Figure size 640x480 with 1 Axes>"
      ]
     },
     "metadata": {},
     "output_type": "display_data"
    }
   ],
   "source": [
    "ax = sns.heatmap(cm, annot=True, xticklabels=[\"No Diabetes\",'Diabetes'], yticklabels=['No Diabetes','Diabetes'],\n",
    "                cbar=False,cmap='Blues')\n",
    "ax.set_xlabel('Prediction')\n",
    "ax.set_ylabel('Actual')\n",
    "plt.show()"
   ]
  },
  {
   "cell_type": "code",
   "execution_count": null,
   "id": "cc4e15ad",
   "metadata": {},
   "outputs": [],
   "source": []
  }
 ],
 "metadata": {
  "kernelspec": {
   "display_name": "Python 3 (ipykernel)",
   "language": "python",
   "name": "python3"
  },
  "language_info": {
   "codemirror_mode": {
    "name": "ipython",
    "version": 3
   },
   "file_extension": ".py",
   "mimetype": "text/x-python",
   "name": "python",
   "nbconvert_exporter": "python",
   "pygments_lexer": "ipython3",
   "version": "3.10.7"
  }
 },
 "nbformat": 4,
 "nbformat_minor": 5
}
